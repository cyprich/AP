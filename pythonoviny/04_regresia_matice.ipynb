{
 "cells": [
  {
   "metadata": {},
   "cell_type": "markdown",
   "source": [
    "# Maticovy tvar linearnej regresie\n",
    "## Problem\n",
    "\n",
    "Pri regresii s viac parametrami je vypocet moc dlhy\n",
    "\n",
    "Keby sa pridaju dalsie parametre tak koniec sveta\n",
    "\n"
   ],
   "id": "f618ea02e71d7c58"
  },
  {
   "metadata": {
    "ExecuteTime": {
     "end_time": "2025-02-03T19:31:20.288576Z",
     "start_time": "2025-02-03T19:31:20.279324Z"
    }
   },
   "cell_type": "code",
   "source": [
    "import numpy as np\n",
    "\n",
    "f = np.array([1, 3, 4, 6, 7])\n",
    "t = np.linspace(0, len(f) - 1, len(f))\n",
    "\n",
    "b0 = np.pow(t, 0)\n",
    "b1 = np.pow(t, 1)\n",
    "b2 = np.pow(t, 2)\n",
    "\n",
    "A = np.array([\n",
    "    [np.dot(b0, b0), np.dot(b1, b0), np.dot(b2, b0)],\n",
    "    [np.dot(b0, b1), np.dot(b1, b1), np.dot(b2, b1)],\n",
    "    [np.dot(b0, b2), np.dot(b1, b2), np.dot(b2, b2)]\n",
    "])\n",
    "\n",
    "b = np.array([\n",
    "    np.dot(f, b0),\n",
    "    np.dot(f, b1),\n",
    "    np.dot(f, b2)]\n",
    ")\n",
    "\n",
    "c = np.linalg.solve(A, b)\n",
    "\n",
    "fp1 = np.dot(c[0], b0) + np.dot(c[1], b1) + np.dot(c[2], b2) # fp = c0*b0 + c1*b1 + c2*b2"
   ],
   "id": "101a3904207bbfd9",
   "outputs": [],
   "execution_count": 8
  },
  {
   "metadata": {},
   "cell_type": "markdown",
   "source": [
    "## Riesenie\n",
    "✨ Matice ✨\n",
    "\n",
    "Pomocou vzorca $\\mathbf{c} = \\left( \\mathbf{f} \\cdot \\mathbf{B^T} \\right) \\cdot \\left( \\mathbf{B} \\cdot \\mathbf{B^T} \\right) ^{-1}$ mozeme predchadzajuci kod nahradit nasledovnym\n",
    "\n",
    "\n"
   ],
   "id": "6c523eb352415c0e"
  },
  {
   "metadata": {
    "ExecuteTime": {
     "end_time": "2025-02-03T19:31:20.319745Z",
     "start_time": "2025-02-03T19:31:20.313879Z"
    }
   },
   "cell_type": "code",
   "source": [
    "B = np.array([\n",
    "    np.pow(t, 0),\n",
    "    np.pow(t, 1),\n",
    "    np.pow(t, 2),\n",
    "])\n",
    "\n",
    "c = np.dot(f, B.T) @ np.linalg.inv(B @ B.T)\n",
    "\n",
    "fp2 = c @ B\n",
    "\n"
   ],
   "id": "f129c0a7de42509",
   "outputs": [],
   "execution_count": 9
  },
  {
   "metadata": {
    "ExecuteTime": {
     "end_time": "2025-02-03T19:31:20.766380Z",
     "start_time": "2025-02-03T19:31:20.366614Z"
    }
   },
   "cell_type": "code",
   "source": [
    "import pandas as pd\n",
    "\n",
    "df = pd.DataFrame([t, f, fp1, fp2], index=[\"t\", \"f\", \"fp1\", \"fp2\"])\n",
    "display(df)"
   ],
   "id": "99678935fd51d717",
   "outputs": [
    {
     "data": {
      "text/plain": [
       "            0         1         2         3         4\n",
       "t    0.000000  1.000000  2.000000  3.000000  4.000000\n",
       "f    1.000000  3.000000  4.000000  6.000000  7.000000\n",
       "fp1  1.057143  2.771429  4.342857  5.771429  7.057143\n",
       "fp2  1.057143  2.771429  4.342857  5.771429  7.057143"
      ],
      "text/html": [
       "<div>\n",
       "<style scoped>\n",
       "    .dataframe tbody tr th:only-of-type {\n",
       "        vertical-align: middle;\n",
       "    }\n",
       "\n",
       "    .dataframe tbody tr th {\n",
       "        vertical-align: top;\n",
       "    }\n",
       "\n",
       "    .dataframe thead th {\n",
       "        text-align: right;\n",
       "    }\n",
       "</style>\n",
       "<table border=\"1\" class=\"dataframe\">\n",
       "  <thead>\n",
       "    <tr style=\"text-align: right;\">\n",
       "      <th></th>\n",
       "      <th>0</th>\n",
       "      <th>1</th>\n",
       "      <th>2</th>\n",
       "      <th>3</th>\n",
       "      <th>4</th>\n",
       "    </tr>\n",
       "  </thead>\n",
       "  <tbody>\n",
       "    <tr>\n",
       "      <th>t</th>\n",
       "      <td>0.000000</td>\n",
       "      <td>1.000000</td>\n",
       "      <td>2.000000</td>\n",
       "      <td>3.000000</td>\n",
       "      <td>4.000000</td>\n",
       "    </tr>\n",
       "    <tr>\n",
       "      <th>f</th>\n",
       "      <td>1.000000</td>\n",
       "      <td>3.000000</td>\n",
       "      <td>4.000000</td>\n",
       "      <td>6.000000</td>\n",
       "      <td>7.000000</td>\n",
       "    </tr>\n",
       "    <tr>\n",
       "      <th>fp1</th>\n",
       "      <td>1.057143</td>\n",
       "      <td>2.771429</td>\n",
       "      <td>4.342857</td>\n",
       "      <td>5.771429</td>\n",
       "      <td>7.057143</td>\n",
       "    </tr>\n",
       "    <tr>\n",
       "      <th>fp2</th>\n",
       "      <td>1.057143</td>\n",
       "      <td>2.771429</td>\n",
       "      <td>4.342857</td>\n",
       "      <td>5.771429</td>\n",
       "      <td>7.057143</td>\n",
       "    </tr>\n",
       "  </tbody>\n",
       "</table>\n",
       "</div>"
      ]
     },
     "metadata": {},
     "output_type": "display_data"
    }
   ],
   "execution_count": 10
  },
  {
   "metadata": {},
   "cell_type": "markdown",
   "source": [
    "### Odvodenie vzorca\n",
    "\n",
    "$$\n",
    "\\begin{gather}\n",
    "c_1 \\cdot \\langle \\mathbf{b_1} \\mathbf{b_1} \\rangle + c_1 \\cdot \\langle \\mathbf{b_2} \\mathbf{b_1} \\rangle + \\dots + c_1 \\cdot \\langle \\mathbf{b_n} \\mathbf{b_1} \\rangle = \\langle \\mathbf{f} \\cdot \\mathbf{b_1} \\rangle \\\\\n",
    "c_2 \\cdot \\langle \\mathbf{b_1} \\mathbf{b_2} \\rangle + c_2 \\cdot \\langle \\mathbf{b_2} \\mathbf{b_2} \\rangle + \\dots + c_2 \\cdot \\langle \\mathbf{b_2} \\mathbf{b_n} \\rangle = \\langle \\mathbf{f} \\cdot \\mathbf{b_2} \\rangle \\\\\n",
    "\\vdots \\\\\n",
    "c_n \\cdot \\langle \\mathbf{b_1} \\mathbf{b_n} \\rangle + c_n \\cdot \\langle \\mathbf{b_2} \\mathbf{b_n} \\rangle + \\dots + c_n \\cdot \\langle \\mathbf{b_n} \\mathbf{b_n} \\rangle = \\langle \\mathbf{f} \\cdot \\mathbf{b_n} \\rangle \\\\\n",
    "\\end{gather}\n",
    "$$\n",
    "\n",
    "### $$\\mathbf{\\Downarrow}$$\n",
    "\n",
    "$$\n",
    "(c_1, c_2, \\dots, c_n) \\cdot \\begin{pmatrix}\n",
    "\\mathbf{b_1 b_1} & \\mathbf{b_2 b_1} & \\dots & \\mathbf{b_n b_1} \\\\\n",
    "\\mathbf{b_1 b_2} & \\mathbf{b_2 b_2} & \\dots & \\mathbf{b_n b_2} \\\\\n",
    "\\vdots & \\vdots & \\ddots & \\vdots \\\\\n",
    "\\mathbf{b_1 b_n} & \\mathbf{b_2 b_n} & \\dots & \\mathbf{b_n b_n}\n",
    "\\end{pmatrix} = \\mathbf{f} \\cdot (\\mathbf{b_1}, \\mathbf{b_2}, \\dots, \\mathbf{b_n})\n",
    "$$\n",
    "\n",
    "### $$\\mathbf{\\Downarrow}$$\n",
    "\n",
    "$$\n",
    "( c_1, c_2, \\dots, c_n ) \\cdot \\begin{pmatrix} \\mathbf{b_1} \\\\ \\mathbf{b_2} \\\\ \\vdots \\\\ \\mathbf{b_n} \\end{pmatrix} \\cdot ( \\mathbf{b_1}, \\mathbf{b_2}, \\dots, \\mathbf{b_n} ) = \\mathbf{f} \\cdot (\\mathbf{b_1}, \\mathbf{b_2}, \\dots, \\mathbf{b_n})\n",
    "$$\n",
    "\n",
    "$$\\mathbf{c} = ( c_1, c_2, \\dots, c_n )$$\n",
    "\n",
    "$$\\mathbf{B} = \\begin{pmatrix} \\mathbf{b_1} \\\\ \\mathbf{b_2} \\\\ \\vdots \\\\ \\mathbf{b_n} \\end{pmatrix}$$\n",
    "\n",
    "### $$\\mathbf{\\Downarrow}$$\n",
    "\n",
    "$$\n",
    "\\mathbf{c} \\cdot \\mathbf{B} \\cdot \\mathbf{B^T} = \\mathbf{f} \\cdot \\mathbf{B^T}\n",
    "$$\n",
    "\n",
    "### $$\\mathbf{\\Downarrow}$$\n",
    "\n",
    "$$\n",
    "\\mathbf{c} = \\left( \\mathbf{f} \\cdot \\mathbf{B^T} \\right) \\cdot \\left( \\mathbf{B} \\cdot \\mathbf{B^T} \\right) ^{-1}\n",
    "$$\n"
   ],
   "id": "f77b45b06d970106"
  }
 ],
 "metadata": {
  "kernelspec": {
   "display_name": "Python 3",
   "language": "python",
   "name": "python3"
  },
  "language_info": {
   "codemirror_mode": {
    "name": "ipython",
    "version": 2
   },
   "file_extension": ".py",
   "mimetype": "text/x-python",
   "name": "python",
   "nbconvert_exporter": "python",
   "pygments_lexer": "ipython2",
   "version": "2.7.6"
  }
 },
 "nbformat": 4,
 "nbformat_minor": 5
}
