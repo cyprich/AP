{
 "cells": [
  {
   "metadata": {},
   "cell_type": "markdown",
   "source": [
    "# 3. cast skusky\n",
    "\n",
    "Zozbierane prikladiky na tretiu cast skusky\n",
    "\n",
    "Priklady na pocitanie\n",
    "\n",
    "Asi 4 priklady za 20 bodov, treba 11 bodov, cas asi 30 minut\n",
    "\n",
    "Mozno sa budu niektore otazky opakovat ale whatever\n",
    "\n",
    "---\n",
    "\n"
   ],
   "id": "9f95d77fc0acff48"
  },
  {
   "metadata": {},
   "cell_type": "markdown",
   "source": "## Ortogonalizujte bazu podpriestoru $\\mathbf{V} = \\{ (c_1+c_3, c_2, c_1, c_2+c_3); c_1, c_2, c_3 \\in \\mathbb{R} \\}$",
   "id": "c0b6724ae83212f9"
  },
  {
   "metadata": {},
   "cell_type": "markdown",
   "source": [
    "## Proces $X(t)$ ma hodnoty $X(0) = 2$, $X(1) = 3$, $X(2) = 4$, $X(3) = 5$\n",
    "- Aproximujte data pomocou funkcie $y(t) a + bt + ce^t$\n",
    "- Vypocitajte chybu aproximacie\n",
    "- Odhadnite hodnotu procesu v $t = 3.2$"
   ],
   "id": "6e11348f94677c3f"
  },
  {
   "metadata": {},
   "cell_type": "markdown",
   "source": "## Proces $X(t)$ ma hodnoty $X(0) = 2$, $X(1) = 0$, $X(2) = 0$, $X(3) = 6$, $X(4) = 4$, $X(5) = 0$. Pomocou priemetu do harmonickej bazy popiste proces spojitou realnou funkciou",
   "id": "9dba20722979bdaf"
  },
  {
   "metadata": {},
   "cell_type": "markdown",
   "source": [
    "## Mame 5 realizacii nahodneho vektora: $(0, 1)$, $(2, 2)$, $(2, 4)$, $(0, 8)$, $(1, 5)$. Zoberte (nakreliste) data do jednorozmerneho priestoru so zachovanim najvacsieho poctu informacii\n",
    "\n",
    "---"
   ],
   "id": "d8f655a681533d8a"
  },
  {
   "metadata": {},
   "cell_type": "markdown",
   "source": "## Data su dane procesom $f = (5, 3, 1.8, 1, 0.7)$, pricom $t = (0, 1, 2, 3, 4)$. Pomocou regresneho modelu $AR(2)$ odhadnite hodnotu procesu v $t=5$",
   "id": "766383f436970482"
  },
  {
   "metadata": {},
   "cell_type": "markdown",
   "source": "## Data su dane procesom $f = (5, 3, 1.8, 1, 0.7)$, pricom $t = (0, 1, 2, 3, 4)$. Popiste proces realnou funkciou s pouzitim priemeru a najvyznamnejsieho periodickeho trendu",
   "id": "9e8baa9961b6354"
  },
  {
   "metadata": {},
   "cell_type": "markdown",
   "source": "## Data su dane procesom $f = (5, 3, 1.8, 1, 0.7)$, pricom $t = (0, 1, 2, 3, 4)$. Aproximujte data pomocou funkcie $y(t) = a \\cdot e^{bt}$ a odhadnite hodnotu procesu v $t = 5$",
   "id": "2ab6701c58d52c31"
  },
  {
   "metadata": {},
   "cell_type": "markdown",
   "source": [
    "## Mame 5 realizacii nahodneho vektora: $(1, 2)$, $(2, 1)$, $(0, 3)$, $(3, 2)$, $(2, 2)$. Kolko percent informacie sa zachova pri priemete dat na priamku, ktoru urcuje prvy vlastny vektor odhadnutej kovariancnej matice nameraneho procesu?\n",
    "\n",
    "---\n"
   ],
   "id": "c22c600c165fdcff"
  },
  {
   "metadata": {},
   "cell_type": "markdown",
   "source": "## Proces nadobuda hodnoty $\\mathbf{f} = (0, 0, 1, 1, 2)$ v casoch $t = (0, 1, 2, 3, 4)$. Pomocou regresie druheho radu $AR(2)$ odhanite nasledujucu hodnotu",
   "id": "f682a6601b2aba95"
  },
  {
   "metadata": {},
   "cell_type": "markdown",
   "source": "## Aproximujte proces $\\mathbf{f} = (0, 2, 4, 6, 8)$ merany v casoch $t = (0, 1, 2, 3, 4)$. Pomocou regresnej funkcie $y(t) = a \\cdot t + b \\cdot e^{0.1 t}$. Napiste chybu aproximacie",
   "id": "199a6f4eec9c24a7"
  },
  {
   "metadata": {},
   "cell_type": "markdown",
   "source": "## Proces nadobuda hodnoty $\\mathbf{f} = (0, 1, 2, 0, 1, 2)$ v casoch $t = (0, 1, 2, 3, 4, 5)$. Aproximujte proces spojitou periodickou funkciou",
   "id": "1081027426dd8785"
  },
  {
   "metadata": {},
   "cell_type": "markdown",
   "source": "## Najdite priemet dat $(0, 0)$, $(1, 2)$, $(1, 4)$, $(2, 5)$, $(3, 1)$ v jednorozmernom podpriestore so zachovanim najvacsieho rozptylu v datach",
   "id": "c05905be8b1fb16e"
  }
 ],
 "metadata": {
  "kernelspec": {
   "display_name": "Python 3",
   "language": "python",
   "name": "python3"
  },
  "language_info": {
   "codemirror_mode": {
    "name": "ipython",
    "version": 2
   },
   "file_extension": ".py",
   "mimetype": "text/x-python",
   "name": "python",
   "nbconvert_exporter": "python",
   "pygments_lexer": "ipython2",
   "version": "2.7.6"
  }
 },
 "nbformat": 4,
 "nbformat_minor": 5
}
