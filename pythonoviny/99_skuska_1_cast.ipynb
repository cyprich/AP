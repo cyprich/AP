{
 "cells": [
  {
   "metadata": {},
   "cell_type": "markdown",
   "source": [
    "# 1. cast skusky\n",
    "\n",
    "Zozbierane prikladiky na prvu cast skusky\n",
    "\n",
    "Rychla otazka - rychla odpoved, vacsinou sa treba riadit pravidlom PV *(pozrem-vidim)*\n",
    "\n",
    "10 prikladov, treba 8 bodov, cas cca 10 minut\n",
    "\n",
    "Mozno sa budu niektore otazky opakovat ale whatever\n",
    "\n",
    "---"
   ],
   "id": "2e0b66fad560c8c"
  },
  {
   "metadata": {},
   "cell_type": "markdown",
   "source": [
    "## Vektor $\\mathbf{u}$ ma suradnice v baze $\\mathbf{B} = \\begin{pmatrix} 1 & 1 \\\\ 1 & -1 \\end{pmatrix}$ rovne $\\mathbf{u} = (2, 1)_\\mathbf{B}$. Napiste jeho suradnice v Euklidovskej baze\n",
    "\n"
   ],
   "id": "1182c5be4f3b8022"
  },
  {
   "metadata": {},
   "cell_type": "markdown",
   "source": "## Vynormujte vektor $(1, 1, 1, 1)$ (zachovajte smer ale zmente velkost na 1)",
   "id": "490c779f51016ece"
  },
  {
   "metadata": {},
   "cell_type": "markdown",
   "source": "## Pre vektor $\\mathbf{u} = (1, 0, 1)$ napiste 2 vektory, ktore su kolme na $\\mathbf{u}$ (nemusia byt kolme navzajom)",
   "id": "1ece866614c12a25"
  },
  {
   "metadata": {},
   "cell_type": "markdown",
   "source": "## Napiste lubovolnu ortogonalnu bazu $V_3(\\mathbb{R})$",
   "id": "61f9552a72be10a6"
  },
  {
   "metadata": {},
   "cell_type": "markdown",
   "source": "## Ktory vektor ma najvacsiu energiu $(1, 1, 1)$ $(1, 0, 2)$ $(-1, 1, 0)$",
   "id": "1e56b5234014f1fc"
  },
  {
   "metadata": {},
   "cell_type": "markdown",
   "source": "## Napiste bazu priestoru, ktory tvoria vektory $(a, a+b, a+c, c)$, kde $a, b, c$ je z $\\mathbb{R}$",
   "id": "12729128816e496e"
  },
  {
   "metadata": {},
   "cell_type": "markdown",
   "source": "## Napiste trojicu linearne **zavislych** vektorov",
   "id": "ba38b968b040749b"
  },
  {
   "metadata": {},
   "cell_type": "markdown",
   "source": "## Vypocitajte velkost vektora $(1, i, 1)$",
   "id": "cea47e7091d3527c"
  },
  {
   "metadata": {},
   "cell_type": "markdown",
   "source": "## Napiste vsetky riesenia rovnice $z^3 = 1$ v komplexnej rovine v exponencialnom tvare",
   "id": "c23854782c550537"
  },
  {
   "metadata": {},
   "cell_type": "markdown",
   "source": [
    "## Determinant matice $\\mathbf{A} = 1$. Co vieme povedat o matici $\\mathbf{A}$?\n",
    "\n",
    "---"
   ],
   "id": "50735ee629abf632"
  },
  {
   "metadata": {},
   "cell_type": "markdown",
   "source": "## Vyjadrite vektor $(3, 2)$ ako linearnu kombinaciu vektorov $(1, 0)$ a $(1, 1)$",
   "id": "2631610140d614f5"
  },
  {
   "metadata": {},
   "cell_type": "markdown",
   "source": "## Pre vektor $\\mathbf{u} = (1, 1, 2)$ napiste vektor $\\mathbf{v}$, ktory je kolmy na $\\mathbf{u}$",
   "id": "3137e4751ac2d55a"
  },
  {
   "metadata": {},
   "cell_type": "markdown",
   "source": "## Doplnte $(1, 1, 1)$ a $(1, 0, 1)$ na bazu $V_3(\\mathbb{R})$",
   "id": "fdfd38b553164f7"
  },
  {
   "metadata": {},
   "cell_type": "markdown",
   "source": "## Ktory vektor je vacsi, $(1, 2)$ alebo $(1, 1, 1)$?",
   "id": "4f306b48c53cf48e"
  },
  {
   "metadata": {},
   "cell_type": "markdown",
   "source": "## Aky priestor tvoria vektory $(a, a+b, 0, a-b)$, kde $a, b$ je z $\\mathbb{R}$?",
   "id": "153e2f51f055c409"
  },
  {
   "metadata": {},
   "cell_type": "markdown",
   "source": "## Napiste k vektoru $(1, 0, 1)$ iny vektor s nim nezavisly",
   "id": "834c7b7eb79712ad"
  },
  {
   "metadata": {},
   "cell_type": "markdown",
   "source": "## Napiste trojicu linearne nezavislych vektorov",
   "id": "936f23481d8e43f4"
  },
  {
   "metadata": {},
   "cell_type": "markdown",
   "source": "## Aku velkost maju vektory v baze $\\mathbf{H}_9$",
   "id": "34928c39858c3f1a"
  },
  {
   "metadata": {},
   "cell_type": "markdown",
   "source": "## Vypocitajte skalarny sucin vektorov $(1, i)$ a $(2i, 0)$",
   "id": "9b2a702df053bf48"
  },
  {
   "metadata": {},
   "cell_type": "markdown",
   "source": [
    "## Patri vektor $(1, 0, 1, 0, 1)$ do Harmonickej bazy?\n",
    "\n",
    "---"
   ],
   "id": "8d3395334076ad3d"
  },
  {
   "metadata": {},
   "cell_type": "markdown",
   "source": "## Vyjadrite vektor $(2, 3)$ ako linearnu kombinaciu vektorov $(1, 1)$ a $(1, 0)$ (napisat cisla)",
   "id": "8dc2bdc75893a6a8"
  },
  {
   "metadata": {},
   "cell_type": "markdown",
   "source": "## Pre vektor $\\mathbf{u} = (2, 1, 2)$ napiste vektor $\\mathbf{v}$, ktory je kolmy na $\\mathbf{u}$",
   "id": "e9bb5e6c243e1458"
  },
  {
   "metadata": {},
   "cell_type": "markdown",
   "source": "## Doplnte $(1, 1, 1)$ a $(1, 2, 1)$ na bazu $V_3(\\mathbb{R})$",
   "id": "dc55b946ac372fd4"
  },
  {
   "metadata": {},
   "cell_type": "markdown",
   "source": "## Ktory vektor je vacsi, $(1, 2)$ alebo $(1, 1, 1, 1)$?",
   "id": "4b0fbeae0f3c97bb"
  },
  {
   "metadata": {},
   "cell_type": "markdown",
   "source": "## Napiste bazu priestoru $(a, a+b, 0, a+c)$, kde $a, b$ je z $\\mathbb{R}$",
   "id": "ba26df449fcf9c2"
  },
  {
   "metadata": {},
   "cell_type": "markdown",
   "source": "## Napiste k vektoru $(1, 1, 1)$ iny vektor s nim nezavisly",
   "id": "fa39ee76c641255"
  },
  {
   "metadata": {},
   "cell_type": "markdown",
   "source": "## Napiste trojicu navzajom linearne nezavislych vektorov",
   "id": "29d8b04af88096ac"
  },
  {
   "metadata": {},
   "cell_type": "markdown",
   "source": "## Aku energiu maju vektory v Harmonickej baze $\\mathbf{H}_4$",
   "id": "29528f5d193782ee"
  },
  {
   "metadata": {},
   "cell_type": "markdown",
   "source": "## Vypocitajte skalarny sucin vektorov $(1, i)$ a $(i, 1)$",
   "id": "8d84df3eaeedf35b"
  },
  {
   "metadata": {},
   "cell_type": "markdown",
   "source": [
    "## Patri vektor $(1, 1, 1, 0, 0, 0)$ do Harmonickej bazy $\\mathbf{H}_6$?\n",
    "\n",
    "---"
   ],
   "id": "b55f4696a0eca39"
  },
  {
   "metadata": {},
   "cell_type": "markdown",
   "source": "## Nakreslite sucet vektorov $(1, 0)$ a $(1, 1)$ (obrazok, nie vypocet)",
   "id": "37a3453b037e1506"
  },
  {
   "metadata": {},
   "cell_type": "markdown",
   "source": "## Napiste cislo $z = 1 + i$ v exponencialnom tvare",
   "id": "1deddf4fb828fd89"
  },
  {
   "metadata": {},
   "cell_type": "markdown",
   "source": "## Doplnte $(1, 2)$ na ortogonalnu bazu $V_3(\\mathbb{R})$",
   "id": "47c88c6307ae4764"
  },
  {
   "metadata": {},
   "cell_type": "markdown",
   "source": "## Ako daleko je vektor $(1, 1, 1)$ od vektora $(1, 5, 1)$?",
   "id": "2e0065282409762c"
  },
  {
   "metadata": {},
   "cell_type": "markdown",
   "source": "## Napiste bazu priestoru pristoru, ktory tvoria vektory $(a, a, b, b+c)$, kde $a, b, c$ je z $\\mathbb{R}$",
   "id": "712e3675ece55c61"
  },
  {
   "metadata": {},
   "cell_type": "markdown",
   "source": "## Napiste k vektorom $(1, 1, 1)$ a $(0, 1, 1)$ iny vektor s nimi linearne nezavisly",
   "id": "26e49802dccad03"
  },
  {
   "metadata": {},
   "cell_type": "markdown",
   "source": "## Napiste trojicu linearne nezavislych dvojrozmernych vektorov (typu $(a, b)$, kde $a, b$ je z $\\mathbb{R}$)",
   "id": "f4fda92d2a1110b1"
  },
  {
   "metadata": {},
   "cell_type": "markdown",
   "source": "## Vypocitajte determinant matice $\\begin{pmatrix} 2 & 1 \\\\ 1 & 2 \\end{pmatrix}$",
   "id": "eaf3d98f002b25e9"
  },
  {
   "metadata": {},
   "cell_type": "markdown",
   "source": "## Su vektory $(1, i)$ a $(2i, 2)$ na seba kolme? Preco ano? Preco nie?",
   "id": "c2e89892b0248b8b"
  },
  {
   "metadata": {},
   "cell_type": "markdown",
   "source": [
    "## Napiste vektor $\\mathbf{h_1}$ Harmonickej bazy $\\mathbf{H}_4$\n",
    "\n",
    "---"
   ],
   "id": "bf11894acb5f384c"
  },
  {
   "metadata": {},
   "cell_type": "markdown",
   "source": "## Napiste lubovolnu linearnu kombinaciu vektorov $(1, 0)$ a $(1, 1)$",
   "id": "2fbd08844aa2d93d"
  },
  {
   "metadata": {},
   "cell_type": "markdown",
   "source": "## Pre vektor $\\mathbf{u} = (1, 1, 2)$ napiste vektor $\\mathbf{v}$, ktory je kolny na $\\mathbf{u}$",
   "id": "2ef22d936f71e70e"
  },
  {
   "metadata": {},
   "cell_type": "markdown",
   "source": "## Doplnte $(0, 0, 1)$ a $(1, 1, 1)$ na bazu $V_3(\\mathbb{R})$",
   "id": "662184e47fc8a1fe"
  },
  {
   "metadata": {},
   "cell_type": "markdown",
   "source": "## Vynormujte vektor $(3, 4)$ (zachovajte smer ale zmente jeho velkost na 1)",
   "id": "fbd1df9ccf66cf73"
  },
  {
   "metadata": {},
   "cell_type": "markdown",
   "source": "## Napiste bazu priestoru, ktory tvoria vektory $(a, a+b, b, a)$, kde $a, b$ je z $\\mathbb{R}$",
   "id": "70fad1d45dc6fafb"
  },
  {
   "metadata": {},
   "cell_type": "markdown",
   "source": "## Ktory z vektorov $(0, 2, 0)$, $(1, 0, 2)$ alebo $(3, 1, 0)$ je najblizsie k bodu $(0, 0, 0)$?",
   "id": "f107021523a1c169"
  },
  {
   "metadata": {},
   "cell_type": "markdown",
   "source": "## Determinant matice $\\mathbf{A} = 0$. Co vieme povedat o matici $A$?",
   "id": "ca86baeec8709a73"
  },
  {
   "metadata": {},
   "cell_type": "markdown",
   "source": "## Aku velkost maju vektory v Harmonickej baze $\\mathbf{H}_4$",
   "id": "493373cd0f66e201"
  },
  {
   "metadata": {},
   "cell_type": "markdown",
   "source": "## Spocitajte skalarny sucin vektorov $(2, i)$ a $(i, 2)$",
   "id": "15d32e5e43dde4d6"
  },
  {
   "metadata": {},
   "cell_type": "markdown",
   "source": [
    "## Patri vektor $(1, -i, 1)$ do Harmonickej bazy $\\mathbf{H}_3$?\n",
    "\n",
    "---"
   ],
   "id": "f84c1bfc0eae104f"
  },
  {
   "metadata": {},
   "cell_type": "markdown",
   "source": "## Vypocitajte skalarny sucin vektorov $(1, i, -i)$ a $(-i, 1, 2)$",
   "id": "f1fa4df9c77015b0"
  },
  {
   "metadata": {},
   "cell_type": "markdown",
   "source": "## Napiste cislo $z = -i$ v goniometrickom tvare",
   "id": "5a3edbc11e4c147f"
  },
  {
   "metadata": {},
   "cell_type": "markdown",
   "source": "## Nakreslite odcitanie vektorov $\\mathbf{u} = (3, 1)$ a $\\mathbf{v} = (2, 0)$ (nie vypocet, ale obrazok)",
   "id": "2b148c4fc2c510ad"
  },
  {
   "metadata": {},
   "cell_type": "markdown",
   "source": "## Napiste lubovolnu ortogonalnu bazu trojrozmerneho priestoru $V_3(\\mathbb{R})$",
   "id": "2bc2d5b707231e61"
  },
  {
   "metadata": {},
   "cell_type": "markdown",
   "source": "## Ktore dva vektory su od seba najdalej? $\\mathbf{u} = (2, 1, 1)$, $\\mathbf{v} = (1, 0, 2)$, $\\mathbf{z} = (3, 0, 0)$. Preco?",
   "id": "a38f153ef83f87b0"
  },
  {
   "metadata": {},
   "cell_type": "markdown",
   "source": "## Vynormujte vektor $(3, 2, 1, 1, 1)$ (zachovajte smer ale zmente velkost na 1)",
   "id": "71a40e2d1ed8259f"
  },
  {
   "metadata": {},
   "cell_type": "markdown",
   "source": "## Napiste dva 4-rozmerne zavisle vektory",
   "id": "6fbf53c769e41739"
  },
  {
   "metadata": {},
   "cell_type": "markdown",
   "source": "## Pre vektor $\\mathbf{u} = (1, 2, 1)$ napiste vektor $\\mathbf{v}$, ktory je kolmy na $\\mathbf{u}$",
   "id": "e9538c8112cb636b"
  },
  {
   "metadata": {},
   "cell_type": "markdown",
   "source": "## Napiste bazu priestoru, ktory tvoria vektory $(c, a+b, a+b+c)$, kde $a, b, c$ je z $\\mathbb{R}$",
   "id": "8857c2a2ea19196d"
  },
  {
   "metadata": {},
   "cell_type": "markdown",
   "source": [
    "## Doplnte vektor $(1, 1, 0)$ na ortogonalnu bazu $V_3(\\mathbb{R})$\n",
    "\n",
    "---"
   ],
   "id": "f3c1d6c0b4a6da25"
  },
  {
   "metadata": {},
   "cell_type": "markdown",
   "source": "## Napiste lubovolny vektor harmonickej bazy $\\mathbf{H}_4$",
   "id": "ea94a8a83c97262"
  },
  {
   "metadata": {},
   "cell_type": "markdown",
   "source": "## Napiste lubovolnu ortogonalnu bazu dvojrozmerneho priestoru $V_2(\\mathbb{R})$",
   "id": "35f0b1b02961284"
  },
  {
   "metadata": {},
   "cell_type": "markdown",
   "source": "## Ktore dva vektory su k sebe najblizsie? $\\mathbf{u} = (1, 1, 1)$, $\\mathbf{v} = (1, 0, 2)$, $\\mathbf{z} = (0, 1, 0)$,",
   "id": "e27bbc4ada39d4f6"
  },
  {
   "metadata": {},
   "cell_type": "markdown",
   "source": "## Vynormujte vektor $(1, 1, 1, 1)$ (zachovajte smer ale zmente velkost na 1)\n",
   "id": "3a39edd5be966ddc"
  },
  {
   "metadata": {},
   "cell_type": "markdown",
   "source": "## Napiste dva nezavisle vektory, ktorych linearna kombinacia je rovna $(1, 1, 2)$",
   "id": "308fe6d56f89092b"
  },
  {
   "metadata": {},
   "cell_type": "markdown",
   "source": "## Pre vektor $\\mathbf{u} = (1, 0, 2)$ napiste vektor $\\mathbf{v}$, ktory je kolmy na $\\mathbf{u}$",
   "id": "2f8d0881165c207"
  },
  {
   "metadata": {},
   "cell_type": "markdown",
   "source": "## Napiste bazu priestoru ktoru tvoria vektory $(a, a+b, c, a+c)$, kde $a, b, c$ je z $\\mathbb{R}$",
   "id": "9c10d68ce4c4e64b"
  },
  {
   "metadata": {},
   "cell_type": "markdown",
   "source": "## Determinant matice $\\mathbf{A} = 1$. Co to znamena pre maticu $\\mathbf{A}$\n",
   "id": "bff0165928424e04"
  },
  {
   "metadata": {},
   "cell_type": "markdown",
   "source": "## Napiste cislo $z = i$ v exponencialnom tvare",
   "id": "f6ac12e44e1b797e"
  },
  {
   "metadata": {},
   "cell_type": "markdown",
   "source": "## Vypocitajte skalarny sucin vektorov $(1, i, 0)$ a $(i, 1, 1)$",
   "id": "fb34e3b22cfed099"
  }
 ],
 "metadata": {
  "kernelspec": {
   "display_name": "Python 3",
   "language": "python",
   "name": "python3"
  },
  "language_info": {
   "codemirror_mode": {
    "name": "ipython",
    "version": 2
   },
   "file_extension": ".py",
   "mimetype": "text/x-python",
   "name": "python",
   "nbconvert_exporter": "python",
   "pygments_lexer": "ipython2",
   "version": "2.7.6"
  }
 },
 "nbformat": 4,
 "nbformat_minor": 5
}
