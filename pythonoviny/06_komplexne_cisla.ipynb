{
 "cells": [
  {
   "metadata": {},
   "cell_type": "markdown",
   "source": "## $i = \\sqrt{-1}$\n",
   "id": "841c2d0efa97fb5a"
  },
  {
   "metadata": {},
   "cell_type": "markdown",
   "source": [
    "### Algebricky tvar: $a + bi$\n",
    "### Goniometricky tvar: $|z| \\cdot (cos \\varphi + i \\cdot sin \\varphi)$\n",
    "### Exponencialny tvar: $|z| \\cdot e^{i \\varphi}$\n"
   ],
   "id": "cbe39b460041b697"
  },
  {
   "metadata": {},
   "cell_type": "markdown",
   "source": [
    "$|z| = \\sqrt{Re(z)^2 + Im(z)^2} \\sqrt{a^2 + b^2}$\n",
    "\n",
    "> velkost komplexneho cisla/vektora\n",
    "\n",
    "$cos \\varphi = \\dfrac{a}{|z|} = sin \\varphi = \\dfrac{b}{|z|} \\Rightarrow \\varphi = cos^{-1} \\left( \\dfrac{a}{|z|} \\right) = sin^{-1} \\left( \\dfrac{b}{|z|} \\right)$\n",
    "\n",
    "> uhol"
   ],
   "id": "70cf3cc270d596dd"
  },
  {
   "metadata": {},
   "cell_type": "markdown",
   "source": [
    "#### Priklad zapisu komplexneho cisla\n",
    "$1 + i = \\sqrt{2} \\cdot \\left( cos \\dfrac{\\pi}{4} + i \\cdot sin \\dfrac{\\pi}{4} \\right) = \\sqrt{2} \\cdot e^{i \\frac{\\pi}{4}}$\n",
    "\n",
    "> vsetky 3 zapisy vyjadruju to iste komplexne cislo\n",
    "\n",
    "$|z| = \\sqrt{a^2 + b^2} = \\sqrt{1^2 + 1^2} = \\sqrt{1 + 1} = \\sqrt{2}$\n",
    "\n",
    "$\\varphi = cos^{-1} \\left( \\dfrac{a}{|z|} \\right) = cos^{-1} \\left( \\dfrac{1}{\\sqrt{2}} \\right) = \\dfrac{\\pi}{4}$\n",
    "\n"
   ],
   "id": "22ad96e049c0a8df"
  },
  {
   "metadata": {},
   "cell_type": "markdown",
   "source": [
    "$z = 1 + i$\n",
    "\n",
    "Komplexne zdruzene cislo = $\\overline{z} = 1 - i$"
   ],
   "id": "4fb967bf53b7ac18"
  },
  {
   "metadata": {},
   "cell_type": "markdown",
   "source": [
    "$i^1 = i$\n",
    "\n",
    "$i^2 = -1$\n",
    "\n",
    "$i^3 = -i$\n",
    "\n",
    "$i^4 = 1$\n",
    "\n",
    "$i^n = i^{n\\%4}$\n",
    "\n",
    "$\\Rightarrow i^1 = i^5 = i^9 = \\dots$\n",
    "\n",
    "$\\Rightarrow i^2 = i^6 = i^10 = \\dots$\n",
    "\n",
    "$\\Rightarrow \\dots$\n"
   ],
   "id": "c65c13f4855a8f8d"
  },
  {
   "metadata": {},
   "cell_type": "markdown",
   "source": [
    "### Skalarny sucin komplexnych vektorov\n",
    "\n",
    "$\\mathbf{h}$ = harmonicky vektor\n",
    "\n",
    "$\\mathbf{h} = (1, i, -1, -i)$\n",
    "\n",
    "**Druhy vektor je vzdy komplexne druzeny!**\n",
    "\n",
    "$\\langle \\mathbf{h}, \\mathbf{h} \\rangle = \\mathbf{h} \\cdot \\mathbf{\\overline{h}} = (1, i, -1, -i) \\cdot \\begin{pmatrix} 1 \\\\ -i \\\\ -1 \\\\ i \\end{pmatrix} = 1 + (-i \\cdot i) + 1 + (-i \\cdot i) = 1 + 1 + 1 + 1 = 4$\n",
    "\n",
    "$\\mathbf{f} = (0, 2, 1, 1)$\n",
    "\n",
    "$\\langle \\mathbf{f}, \\mathbf{h} \\rangle = \\mathbf{f} \\cdot \\mathbf{\\overline{h}} = (0, 2, 1, 1) \\cdot \\begin{pmatrix} 1 \\\\ -i \\\\ -1 \\\\ i \\end{pmatrix} = 0 - 2i - 1 + i = -1 -i$"
   ],
   "id": "292a316a4e2e7088"
  }
 ],
 "metadata": {
  "kernelspec": {
   "display_name": "Python 3",
   "language": "python",
   "name": "python3"
  },
  "language_info": {
   "codemirror_mode": {
    "name": "ipython",
    "version": 2
   },
   "file_extension": ".py",
   "mimetype": "text/x-python",
   "name": "python",
   "nbconvert_exporter": "python",
   "pygments_lexer": "ipython2",
   "version": "2.7.6"
  }
 },
 "nbformat": 4,
 "nbformat_minor": 5
}
