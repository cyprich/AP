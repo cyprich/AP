{
 "cells": [
  {
   "metadata": {},
   "cell_type": "code",
   "source": [
    "import numpy as np\n",
    "import matplotlib.pyplot as plt\n",
    "from fractions import Fraction\n",
    "import math"
   ],
   "id": "c8e5bb1517070044",
   "outputs": [],
   "execution_count": null
  },
  {
   "metadata": {},
   "cell_type": "markdown",
   "source": "# W2",
   "id": "1a98e06dd1577789"
  },
  {
   "metadata": {},
   "cell_type": "markdown",
   "source": "## Priklady",
   "id": "d96e2d5c47004045"
  },
  {
   "metadata": {},
   "cell_type": "raw",
   "source": [
    "Najdite suradnice vektora (7, 5) v baze danej vektormi (4, 3) a (5, 4)\n",
    "Najdite suradnice vektora (3, 1, 1) v baze danej vektormi (1, 1, 1) (-1, 1, 0) (1, 1, -2)\n",
    "Najdite suradnice vektora (5, 4, 1) v baze danej vektormi (1, 2, 0) (2, 2, 1) (0, 2, 1)"
   ],
   "id": "ebb08b0f1ff4dde",
   "outputs": null,
   "execution_count": null
  },
  {
   "metadata": {},
   "cell_type": "code",
   "source": [
    "v = np.array([7, 5])\n",
    "B = np.array([[4, 3], [5, 4]]).T  # maticu treba transponovat (.T) lebo caka stlpcove vektory\n",
    "print(np.linalg.solve(B, v))\n",
    "\n",
    "v = np.array([3, 1, 1])\n",
    "B = np.array([[1, 1, 1], [-1, 1, 0], [1, 1, -2]]).T  # maticu treba transponovat (.T) lebo caka stlpcove vektory\n",
    "for x in np.linalg.solve(B, v):\n",
    "    print(Fraction(x).limit_denominator(), end='  ')\n",
    "print()\n",
    "\n",
    "v = np.array([5, 4, 1])\n",
    "B = np.array([[1, 2, 0], [2, 2, 1], [0, 2, 1]]).T  # maticu treba transponovat (.T) lebo caka stlpcove vektory\n",
    "for x in np.linalg.solve(B, v):\n",
    "    print(Fraction(x).limit_denominator(), end='  ')\n",
    "print()\n",
    "\n"
   ],
   "id": "797ab262c2368461",
   "outputs": [],
   "execution_count": null
  },
  {
   "metadata": {},
   "cell_type": "markdown",
   "source": "## Kreslenie Domceka",
   "id": "492f01e00a12689f"
  },
  {
   "metadata": {},
   "cell_type": "code",
   "source": [
    "def vykreli(A, *args, **kwargs):\n",
    "    plt.plot([x[0] for x in A], [x[1] for x in A], *args, **kwargs)\n",
    "    plt.plot(-1, -1)\n",
    "    plt.plot(2, 2)\n",
    "\n",
    "def zmen_bazu(B:list[list[int]], *args, **kwargs):\n",
    "    vykreli(A @ B, *args, **kwargs)\n",
    "\n",
    "A = np.array([[0, 0], [0, 1], [0.5, 1.5], [1, 1], [0, 1], [1, 1], [1, 0], [0, 0]])  # body domceka\n",
    "vykreli(A, \"g\")\n",
    "plt.savefig(\"obrazky/w2_1_1.svg\")\n",
    "\n",
    "plt.figure()\n",
    "vykreli(A, \"g\", linewidth=4)\n",
    "zmen_bazu([[0.5, 0], [0, 1]])\n",
    "zmen_bazu([[1.5, 0], [0, 1]])\n",
    "plt.savefig(\"obrazky/w2_1_2.svg\")\n",
    "\n",
    "plt.figure()\n",
    "vykreli(A, \"g\", linewidth=4)\n",
    "zmen_bazu([[1, 0], [0, 0.5]])\n",
    "zmen_bazu([[1, 0], [0, 1.5]])\n",
    "plt.savefig(\"obrazky/w2_1_3.svg\")\n",
    "\n",
    "plt.figure()\n",
    "zmen_bazu([[1, 0], [0.5, 1.25]])\n",
    "vykreli(A, \"g\", linewidth=4)\n",
    "plt.savefig(\"obrazky/w2_1_4.svg\")\n"
   ],
   "id": "98a971d30482beea",
   "outputs": [],
   "execution_count": null
  },
  {
   "metadata": {},
   "cell_type": "code",
   "source": [
    "def new_fig():\n",
    "    fig = plt.figure()\n",
    "    ax = fig.add_subplot(111, projection='3d')\n",
    "    return fig, ax\n",
    "\n",
    "def vykreli3(A, *args, **kwargs):\n",
    "    ax.plot([x[0] for x in A], [x[1] for x in A], [x[2] for x in A], *args, **kwargs)\n",
    "\n",
    "def zmen_bazu3(B:list[list[int]], *args, **kwargs):\n",
    "    vykreli3(A @ B, *args, **kwargs)\n",
    "\n",
    "A = np.array([\n",
    "    [1, 0, 0],\n",
    "    [0, 0, 0],\n",
    "    [0, 0, 1],\n",
    "    [0, 0, 0],\n",
    "    [0, 1, 0],\n",
    "    [0, 1, 1],\n",
    "    [0, 1, 0],\n",
    "    [1, 1, 0],\n",
    "    [1, 1, 1],\n",
    "    [1, 1, 0],\n",
    "    [1, 0, 0],\n",
    "    [1, 0, 1],\n",
    "    [0.5, 0.5, 2],\n",
    "    [1, 0, 1],\n",
    "    [1, 1, 1],\n",
    "    [0.5, 0.5, 2],\n",
    "    [1, 1, 1],\n",
    "    [0, 1, 1],\n",
    "    [0.5, 0.5, 2],\n",
    "    [0, 1, 1],\n",
    "    [0, 0, 1],\n",
    "    [0.5, 0.5, 2],\n",
    "    [0, 0, 1],\n",
    "    [1, 0, 1],\n",
    "    [0.5, 0.5, 2],\n",
    "    [1, 0.5, 1],\n",
    "])\n",
    "B1 = [[1, 0, 0], [0, 1, 0], [1, 1, 0]]\n",
    "B2 = [[1/math.sqrt(2), 1/math.sqrt(2), 0], [(-1)/math.sqrt(2), 1/math.sqrt(2), 0], [0, 0, 1]]\n",
    "\n",
    "fig, ax = new_fig()\n",
    "vykreli3(A, linewidth=3)\n",
    "plt.savefig(\"obrazky/w2_2_1.svg\")\n",
    "\n",
    "fig, ax = new_fig()\n",
    "vykreli3(A, linewidth=3)\n",
    "zmen_bazu3(B1)\n",
    "plt.savefig(\"obrazky/w2_2_2.svg\")\n",
    "\n",
    "fig, ax = new_fig()\n",
    "vykreli3(A, linewidth=3)\n",
    "zmen_bazu3(B2)\n",
    "plt.savefig(\"obrazky/w2_2_3.svg\")\n",
    "\n",
    "plt.show()"
   ],
   "id": "16f81807610504b2",
   "outputs": [],
   "execution_count": null
  },
  {
   "metadata": {
    "ExecuteTime": {
     "end_time": "2025-02-01T23:01:41.958576Z",
     "start_time": "2025-02-01T23:01:41.871429Z"
    }
   },
   "cell_type": "code",
   "source": [
    "def projekcia(bod):\n",
    "    x, y, z = bod\n",
    "    return [x - 0.5 * y, z - 0.5 * y]\n",
    "\n",
    "X = [projekcia(i) for i in A]\n",
    "vykreli(X)\n",
    "plt.savefig(\"obrazky/w2_3_1.svg\")\n",
    "\n"
   ],
   "id": "adfe0e208fb21590",
   "outputs": [
    {
     "data": {
      "text/plain": [
       "<Figure size 640x480 with 1 Axes>"
      ],
      "image/png": "[encoded data removed]"
     },
     "metadata": {},
     "output_type": "display_data"
    }
   ],
   "execution_count": 332
  },
  {
   "metadata": {},
   "cell_type": "code",
   "outputs": [],
   "execution_count": null,
   "source": "",
   "id": "f89e49bf9cf6354c"
  }
 ],
 "metadata": {
  "kernelspec": {
   "name": "python3",
   "language": "python",
   "display_name": "Python 3 (ipykernel)"
  }
 },
 "nbformat": 5,
 "nbformat_minor": 9
}
