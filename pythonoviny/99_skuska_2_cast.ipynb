{
 "cells": [
  {
   "metadata": {},
   "cell_type": "markdown",
   "source": [
    "# 2. cast skusky\n",
    "\n",
    "Zozbierane prikladiky na druhu cast skusky\n",
    "\n",
    "Teoreticke otazky, na vyber z 3 odpovedi (nemusi tam byt spravna odpoved), davaju sa minusove body za nespravnu odpoved\n",
    "\n",
    "Zaskrtnuty checkbox = *asi (dufam)* spravna odpoved\n",
    "\n",
    "Asi 18 prikladov za 20 bodov, treba 11 bodov, cas cca 20 minut\n",
    "\n",
    "Mozno sa budu niektore otazky opakovat ale whatever\n",
    "\n",
    "---\n"
   ],
   "id": "e52dc60694df9ffc"
  },
  {
   "metadata": {},
   "cell_type": "markdown",
   "source": [
    "## Velkostou procesu $\\mathbf{f}$ nazveme vyraz\n",
    "- [ ] $\\sqrt{\\langle \\mathbf{f}, \\mathbf{f} \\rangle}$\n",
    "- [ ] $\\sqrt{d\\langle \\mathbf{f}, 0 \\rangle}$\n",
    "- [ ] $|| \\mathbf{f} || ^2$\n"
   ],
   "id": "6454fa555b0aed2d"
  },
  {
   "metadata": {},
   "cell_type": "markdown",
   "source": [
    "## Koeficienty regresnej krivky $y = at^3$ najdeme pomocou priemetu do\n",
    "- [ ] Jedno-rozmerneho priestoru\n",
    "- [ ] Dvoj-rozmerneho priestoru\n",
    "- [ ] Troj-rozmerneho priestoru\n",
    "\n"
   ],
   "id": "8f1f14b401f922b1"
  },
  {
   "metadata": {},
   "cell_type": "markdown",
   "source": [
    "## Matica $cov(f) = \\begin{pmatrix} 5 & 1 \\\\ 1 & 5 \\end{pmatrix}$ ma vlastny vektor\n",
    "- [ ] $\\mathbf{b} = (1, -1)$\n",
    "- [ ] $\\mathbf{b} = (-1, 1)$\n",
    "- [ ] $\\mathbf{b} = (1, 1)$\n"
   ],
   "id": "60b7cf176b959931"
  },
  {
   "metadata": {},
   "cell_type": "markdown",
   "source": [
    "## Matica $cov(f) = \\begin{pmatrix} 5 & 1 \\\\ 1 & 5 \\end{pmatrix}$ ma vlastne cislo\n",
    "- [ ] $\\lambda = 4$\n",
    "- [ ] $\\lambda = 5$\n",
    "- [ ] $\\lambda = 6$\n",
    "\n"
   ],
   "id": "e217710806a56580"
  },
  {
   "metadata": {},
   "cell_type": "markdown",
   "source": [
    "## Nech matica $\\mathbf{A}$ ma vlastne cislo $\\lambda$ a vlastny vektor $\\mathbf{v}$. Potom plati\n",
    "- [ ] $\\mathbf{A} \\lambda = \\lambda \\mathbf{v}$\n",
    "- [ ] $\\mathbf{A} \\mathbf{v} = \\mathbf{v} \\lambda$\n",
    "- [ ] $\\mathbf{A} \\mathbf{v} = \\lambda \\mathbf{v}$\n"
   ],
   "id": "a4cb6bf49f9100ef"
  },
  {
   "metadata": {},
   "cell_type": "markdown",
   "source": [
    "## Nech $\\mathbf{U}$ je bazicka matica vlastnych vektorov kovariancnej matice. Potom plati\n",
    "- [ ] $\\mathbf{U}^T = \\mathbf{U}$\n",
    "- [ ] $\\mathbf{U}^T = \\mathbf{U}^{-1}$\n",
    "- [ ] $\\mathbf{U}^T = \\mathbf{U}^{-2}$\n"
   ],
   "id": "3f7fa869ae4fdf84"
  },
  {
   "metadata": {},
   "cell_type": "markdown",
   "source": [
    "## Ktore funkcie mozeme pouzit pri aproximacii pomocou linearnej regresie?\n",
    "- [ ] $y(t) = c_1 e^{i \\pi t}$\n",
    "- [ ] $y(t) = c_0 + c_1 e^{i \\pi t}$\n",
    "- [ ] $y(t) = c_0 + c_1 e^{c_2 \\pi t}$\n"
   ],
   "id": "de6e38817b9961db"
  },
  {
   "metadata": {},
   "cell_type": "markdown",
   "source": [
    "## Pre skalarny sucin komplexnych vektorov plati\n",
    "- [ ] $\\langle \\mathbf{f}, \\mathbf{g} \\rangle = \\sum f_k \\cdot g_k$\n",
    "- [ ] $\\langle \\mathbf{f}, \\mathbf{g} \\rangle = \\sum f_k \\cdot \\overline{g_k}$\n",
    "- [ ] $\\langle \\mathbf{f}, \\mathbf{g} \\rangle = \\sum \\overline{f_k} \\cdot g_k$\n"
   ],
   "id": "6a20dd83f9acc1e8"
  },
  {
   "metadata": {},
   "cell_type": "markdown",
   "source": [
    "## Proces $\\mathbf{f}$ v harmonickej baze $\\mathbf{H} = \\{ \\mathbf{b_0}, \\mathbf{b_1}, \\mathbf{b_2}, \\mathbf{b_3}, \\mathbf{b_4}, \\mathbf{b_5}, \\mathbf{b_6} \\}$ ma spektrum $\\mathbf{f} = (0.5, -0.2+0.2i, -i, 1+i, 1-i, i, -0.2-0.2i)_\\mathbf{H}$. \"Najlepsi\" priemet procesu do 4-rozmerneho priestoru dostaneme, ak premietame do bazy:\n",
    "- [ ] ${\\mathbf{b_1}, \\mathbf{b_3}, \\mathbf{b_4}, \\mathbf{b_6}}$\n",
    "- [ ] ${\\mathbf{b_1}, \\mathbf{b_2}, \\mathbf{b_3}, \\mathbf{b_5}}$\n",
    "- [ ] ${\\mathbf{b_2}, \\mathbf{b_3}, \\mathbf{b_4}, \\mathbf{b_5}}$\n"
   ],
   "id": "2d7f2f089fc7ec3b"
  },
  {
   "metadata": {},
   "cell_type": "markdown",
   "source": [
    "## Nech $\\mathbf{\\overline{f}}$ je priemet vektora $\\mathbf{f}$ do podpriestoru s bazickymi vektormi $\\mathbf{b_1}, \\mathbf{b_2}, \\mathbf{b_3}$, potom\n",
    "- [ ] $\\mathbf{\\overline{f}}$ je linearnou kombinacou vektorov $\\mathbf{b_1}, \\mathbf{b_2}, \\mathbf{b_3}$\n",
    "- [ ] $\\mathbf{\\overline{f}}$ je suctom vektorov $\\mathbf{b_1}, \\mathbf{b_2}, \\mathbf{b_3}$\n",
    "- [ ] $\\mathbf{\\overline{f}}$ je linearne nezavisly s vektormi $\\mathbf{b_1}, \\mathbf{b_2}, \\mathbf{b_3}$\n"
   ],
   "id": "b2bd35d0d2a8b411"
  },
  {
   "metadata": {},
   "cell_type": "markdown",
   "source": [
    "## Doplnte maticu $\\mathbf{A} = \\begin{pmatrix} 4 & a & 1 \\\\ b & c & 2 \\\\ 1 & 2 & d \\end{pmatrix}$ aby bola korelacnou maticou\n",
    "- [ ] $a = 2, b = -2, c = 4, d = 4$\n",
    "- [ ] $a = 3, b = 3, c = 4, d = 2$\n",
    "- [ ] $a = 3, b = 3, c = -1, d = 4$\n"
   ],
   "id": "d07fd19ae94eeee9"
  },
  {
   "metadata": {},
   "cell_type": "markdown",
   "source": [
    "## Kovarianciu $cov(X, Y)$ vypocitame\n",
    "- [ ] $EX^2 - EY^2$\n",
    "- [ ] $E((X - EX) (Y - EY))$\n",
    "- [ ] $E(XY) - E(XY)^2$\n"
   ],
   "id": "c9d9c6bf4ee11043"
  },
  {
   "metadata": {},
   "cell_type": "markdown",
   "source": [
    "## Baza $N$-rozmerneho priestoru je\n",
    "- [ ] Minimalny pocet navzajom kolmych vektorov\n",
    "- [ ] Maximalny pocet navzajom kolmych vektorov\n",
    "- [ ] Minimalny pocet navzajom nezavislych vektorov\n"
   ],
   "id": "f9c0074cc4c43800"
  },
  {
   "metadata": {},
   "cell_type": "markdown",
   "source": [
    "## Kovariancnu maticy $NP$ (nie jej odhad) sa da vypocitat len\n",
    "- [ ] Zo strednej hodnoty a disperzie procesu\n",
    "- [ ] Z distribucnej funkcie\n",
    "- [ ] Z nameranych hodnot\n"
   ],
   "id": "e81d7312ad1647e1"
  },
  {
   "metadata": {},
   "cell_type": "markdown",
   "source": [
    "## Pre skalarny sucin plati\n",
    "- [ ] $\\langle 2 \\mathbf{f}, \\mathbf{g} \\rangle = 2 \\langle \\mathbf{f}, \\mathbf{g} \\rangle$\n",
    "- [ ] $\\langle 2 \\mathbf{f}, 2 \\mathbf{g} \\rangle = 2 \\langle \\mathbf{f}, \\mathbf{g} \\rangle$\n",
    "- [ ] $\\langle 4 \\mathbf{f}, \\mathbf{g} \\rangle = 2 \\langle \\mathbf{f}, \\mathbf{g} \\rangle$\n"
   ],
   "id": "ab54d1294c48ec5d"
  },
  {
   "metadata": {},
   "cell_type": "markdown",
   "source": [
    "## Ktory vektor moze byt prvym riadkom kovariancnej matice nahodneho procesu?\n",
    "- [ ] $(-4, 2, 0, -1, 2)$\n",
    "- [ ] $(-4, 3, 1, 1, 3)$\n",
    "- [ ] $(-3, 1, -1)$\n"
   ],
   "id": "6bb8b0337b15750d"
  },
  {
   "metadata": {},
   "cell_type": "markdown",
   "source": [
    "## V metode PCA 1. hlavny komponent urcuje\n",
    "- [ ] Smer maximalneho rozptylu\n",
    "- [ ] Dominantnu periodu v procese\n",
    "- [ ] Strednu hodnotu v datach\n"
   ],
   "id": "fea2434476f862ba"
  },
  {
   "metadata": {},
   "cell_type": "markdown",
   "source": [
    "## Pomocou priemetu dat na priamku mozeme\n",
    "- [ ] Zistit priemer dat\n",
    "- [ ] Vyhladit data\n",
    "- [ ] Zistit parabolicky trend $y = c_1 + c_2t^2$\n",
    "\n",
    "---\n"
   ],
   "id": "4dab15068c97917a"
  },
  {
   "metadata": {},
   "cell_type": "markdown",
   "source": [
    "## V kolkorozmernom podpriestore dosianhneme najlepsiu aproximaciu procesu $\\mathbf{f} = \\{ f_1, f_2, \\dots, f_N \\}$\n",
    "- [ ] $N$-rozmernom\n",
    "- [ ] $N - 1$-rozmernom\n",
    "- [ ] Jednorozmernom\n"
   ],
   "id": "d851c035e81ceb1e"
  },
  {
   "metadata": {},
   "cell_type": "markdown",
   "source": [
    "## Ak proces $\\overline{f}$ je najlepsim odhadom procesu $f$, potom pre skalarny sucin plati\n",
    "- [ ] $\\langle f-\\overline{f}, \\overline{f} \\rangle = 0$\n",
    "- [ ] $\\langle f-\\overline{f}, f \\rangle = 0$\n",
    "- [ ] $\\langle \\overline{f}, f \\rangle = 0$\n"
   ],
   "id": "cf60b05706c8f564"
  },
  {
   "metadata": {},
   "cell_type": "markdown",
   "source": [
    "## Metoda klzavych priemerov sluzi na\n",
    "- [ ] Odhad nasledujucej hodnoty v datach\n",
    "- [ ] Vyhladenie dat\n",
    "- [ ] Odhad chybajucej hodnoty medzi datami\n"
   ],
   "id": "e8620c2e3aee789"
  },
  {
   "metadata": {},
   "cell_type": "markdown",
   "source": [
    "## Nech matica $\\mathbf{B}$ je bazickou maticou $N$-rozmerneho procesu. Potom plati\n",
    "- [ ] $\\mathbf{B}$ je symetricka matica\n",
    "- [ ] $\\mathbf{B}$ je regularna matica\n",
    "- [ ] $\\mathbf{B}$ je stvorcova matica\n"
   ],
   "id": "59e8431ddd2c3e6a"
  },
  {
   "metadata": {},
   "cell_type": "markdown",
   "source": [
    "## Ktore funkcie mozeme pouzit pri aproximacii pomocou linearnej regresie?\n",
    "- [ ] $y(t) = ae^{bt}$\n",
    "- [ ] $y(t) = ae^{bt} + c$\n",
    "- [ ] $y(t) = a \\cdot \\ln(bt)$\n"
   ],
   "id": "d4f9ce7012277b24"
  },
  {
   "metadata": {},
   "cell_type": "markdown",
   "source": [
    "## Pre skalarny sucin komplexnych vektorov plati\n",
    "- [ ] $\\langle \\mathbf{f}, \\mathbf{g} \\rangle = \\sum \\mathbf{\\overline{f_k}} \\cdot \\mathbf{g_k}$\n",
    "- [ ] $\\langle \\mathbf{f}, \\mathbf{g} \\rangle = \\sum \\mathbf{f_k} \\cdot \\mathbf{\\overline{g_k}}$\n",
    "- [ ] $\\langle \\mathbf{f}, \\mathbf{g} \\rangle = \\sum \\mathbf{f_k} \\cdot \\mathbf{g_k}$\n",
    "\n"
   ],
   "id": "2bef228a807d3a47"
  },
  {
   "metadata": {},
   "cell_type": "markdown",
   "source": [
    "## Ak pre nahodne procesy plati $\\mathbf{g} = 2 \\mathbf{f}$, potom\n",
    "- [ ] $E\\mathbf{g} = E\\mathbf{f}$, a tiez $D\\mathbf{g} = 2 \\cdot D\\mathbf{g}$\n",
    "- [ ] $E\\mathbf{g} = 2 \\cdot E\\mathbf{f}$, a tiez $D\\mathbf{g} = 4 \\cdot D\\mathbf{g}$\n",
    "- [ ] $E\\mathbf{g} = 4 \\cdot E\\mathbf{f}$, a tiez $D\\mathbf{g} = 4 \\cdot D\\mathbf{g}$\n"
   ],
   "id": "1a42c262eb20074d"
  },
  {
   "metadata": {},
   "cell_type": "markdown",
   "source": [
    "## Diskretnu Fourierovu transformaciu mozeme pouzit\n",
    "- [ ] Na vyhladenie dat\n",
    "- [ ] Na urcenie smeru najvacsieho rozptylu v datach\n",
    "- [ ] Na hladanie periodickych trendov v datach\n"
   ],
   "id": "59b70a8453fccbf0"
  },
  {
   "metadata": {},
   "cell_type": "markdown",
   "source": [
    "## Nech $\\mathbf{U}$ je matica normovanych vlastnych vektorov kovariancnej matice $\\mathbf{R}$. Potom plati\n",
    "- [ ] $\\mathbf{U} = \\mathbf{U}^{-1}$\n",
    "- [ ] $\\mathbf{U}^T = \\mathbf{U}^{-1}$\n",
    "- [ ] $\\mathbf{U}^T = \\mathbf{R} \\cdot \\mathbf{R}^T$\n"
   ],
   "id": "3ece5c7be683307c"
  },
  {
   "metadata": {},
   "cell_type": "markdown",
   "source": [
    "## Aby sa dva nahodne procesy rovnali v ramci kovariancnej analyzy, staci aby mali rovnake\n",
    "- [ ] Disperzie a stredne hodnoty\n",
    "- [ ] Energie\n",
    "- [ ] Vsetky realizacie\n"
   ],
   "id": "3fd9fb0a883d3c5c"
  },
  {
   "metadata": {},
   "cell_type": "markdown",
   "source": [
    "## Suradnice $c_k$ a $c_{N-k}$ spektra v harnomickej baze su\n",
    "- [ ] Vzdy rovnake\n",
    "- [ ] Vzdy maju rovnake imaginarne zlozky\n",
    "- [ ] Imaginarne zlozky maju vzdy rovnake znamienka\n"
   ],
   "id": "c86b135599d19760"
  },
  {
   "metadata": {},
   "cell_type": "markdown",
   "source": [
    "## Baza $\\mathbf{B}_j$ $N$-rozmerneho priestoru vzdy predstavuje\n",
    "- [ ] Minmalny pocet navzajom nezavislych vektorov\n",
    "- [ ] Maximalny pocet navzajom nezavislych vektorov\n",
    "- [ ] Maximalny pocet navzajom kolmych vektorov\n"
   ],
   "id": "404ec9ef34edc383"
  },
  {
   "metadata": {},
   "cell_type": "markdown",
   "source": [
    "## Pre skalarny sucin plati\n",
    "- [ ] $\\langle 2 \\mathbf{f}, \\mathbf{g} \\rangle = 4 \\langle \\mathbf{f}, \\mathbf{g} \\rangle$\n",
    "- [ ] $\\langle 2 \\mathbf{f}, 2 \\mathbf{g} \\rangle = 2 \\langle \\mathbf{f}, \\mathbf{g} \\rangle$\n",
    "- [ ] $\\langle 2 \\mathbf{f}, 2 \\mathbf{g} \\rangle = 4 \\langle \\mathbf{f}, \\mathbf{g} \\rangle$\n"
   ],
   "id": "deb0937c26817553"
  },
  {
   "metadata": {},
   "cell_type": "markdown",
   "source": [
    "## Spektralna analyza pomocou harmonickej bazy je linearnou regresiou\n",
    "- [ ] Vzdy\n",
    "- [ ] Nikdy\n",
    "- [ ] Niekedy\n"
   ],
   "id": "21430833cec27d54"
  },
  {
   "metadata": {},
   "cell_type": "markdown",
   "source": [
    "## Nech matica $\\mathbf{B}$ je bazickou maticou vektoroveho podpriestoru $V_m(\\mathbb{R})$ ($m < N$, kde $N$ je dimenzia uvazovaneho priestoru). Potom koeficienty priemetu $c$ vektora $\\mathbf{f}$ do tohto podpriestoru vypocitame ako\n",
    "- [ ] $c = \\mathbf{f} \\cdot \\mathbf{B}^{-1}$\n",
    "- [ ] $c = (\\mathbf{f} \\cdot \\mathbf{B}) \\cdot (\\mathbf{B}^T \\cdot \\mathbf{B})^{-1}$\n",
    "- [ ] $c = (\\mathbf{f} \\cdot \\mathbf{B}^T) \\cdot (\\mathbf{B} \\cdot \\mathbf{B}^T)^{-1}$\n"
   ],
   "id": "f826a5f797571f56"
  },
  {
   "metadata": {},
   "cell_type": "markdown",
   "source": [
    "## Velkostou procesu $\\mathbf{f}$ nazveme vyraz\n",
    "- [ ] $|| \\mathbf{f} ||$\n",
    "- [ ] $\\langle \\mathbf{f}, \\mathbf{f} \\rangle$\n",
    "- [ ] $\\langle \\mathbf{f}, 0 \\rangle$\n"
   ],
   "id": "f32972048fe58180"
  },
  {
   "metadata": {},
   "cell_type": "markdown",
   "source": [
    "## Matica ma tvar $\\mathbf{M} = \\begin{pmatrix} 6 & 2 \\\\ 2 & 6 \\end{pmatrix}$. Ktore su jej vlastne cisla?\n",
    "- [ ] $\\lambda = 4$\n",
    "- [ ] $\\lambda = 0$\n",
    "- [ ] $\\lambda = 2$\n"
   ],
   "id": "1b696730f1942457"
  },
  {
   "metadata": {},
   "cell_type": "markdown",
   "source": [
    "## Piaty vektor $\\mathbf{b_4}$ harmonickej bazy **8-rozmerneho** priestoru je\n",
    "- [ ] $\\left(1, e^{i \\dfrac{2 \\pi}{16}}, e^{i \\dfrac{4 \\pi}{16}}, \\dots, e^{i \\dfrac{16 \\pi}{16}} \\right)$\n",
    "- [ ] $\\left(1, e^{i \\dfrac{10 \\pi}{16}}, e^{i \\dfrac{20 \\pi}{16}}, \\dots, e^{i \\dfrac{80 \\pi}{16}} \\right)$\n",
    "- [ ] $\\left(1, e^{i \\dfrac{8 \\pi}{16}}, e^{i \\dfrac{16 \\pi}{16}}, \\dots, e^{i \\dfrac{64 \\pi}{16}} \\right)$\n",
    "\n",
    "---"
   ],
   "id": "25feb6be878410e"
  },
  {
   "metadata": {},
   "cell_type": "markdown",
   "source": [
    "## Velkostou procesu $\\mathbf{f}$ nazveme vyraz\n",
    "- [ ] $\\langle \\mathbf{f}, \\mathbf{f} \\rangle$\n",
    "- [ ] $d(\\mathbf{f}, 0)$\n",
    "- [ ] $|| \\mathbf{f} || ^2$\n"
   ],
   "id": "f7eb34a0f8205af6"
  },
  {
   "metadata": {},
   "cell_type": "markdown",
   "source": [
    "## Koeficienty regresnej krivky $y = a + bt^3$ najdeme pomocou priemetu do\n",
    "- [ ] Jedno-rozmerneho podpriestoru\n",
    "- [ ] Dvoj-rozmerneho podpriestoru\n",
    "- [ ] Troj-rozmerneho podpriestoru\n"
   ],
   "id": "916de6b7a96595de"
  },
  {
   "metadata": {},
   "cell_type": "markdown",
   "source": [
    "## Matica $cov(\\mathbf{f}) = \\begin{pmatrix} 5 & 1 \\\\ 1 & 5 \\end{pmatrix}$ ma vlastny vektor\n",
    "- [ ] $\\mathbf{b} = (1, 1)$\n",
    "- [ ] $\\mathbf{b} = (1, -1)$\n",
    "- [ ] $\\mathbf{b} = (0, 1)$\n"
   ],
   "id": "fdf19a2fc62dfbf3"
  },
  {
   "metadata": {},
   "cell_type": "markdown",
   "source": [
    "## Matica $cov(\\mathbf{f}) = \\begin{pmatrix} 5 & 1 \\\\ 1 & 5 \\end{pmatrix}$ ma vlastne cislo\n",
    "- [ ] $\\lambda = 5$\n",
    "- [ ] $\\lambda = 0$\n",
    "- [ ] $\\lambda = 4$\n"
   ],
   "id": "c0b0e6385da27054"
  },
  {
   "metadata": {},
   "cell_type": "markdown",
   "source": [
    "## Nech matica $\\mathbf{A}$ ma vlastne cislo $\\lambda$ a vlastny vektor $\\mathbf{v}$. Potom plati\n",
    "- [ ] $\\mathbf{A} \\lambda = \\lambda \\mathbf{v}$\n",
    "- [ ] $\\mathbf{A} \\mathbf{v} = \\lambda \\mathbf{v}$\n",
    "- [ ] $\\mathbf{A} \\mathbf{v} = \\lambda \\mathbf{v}$\n"
   ],
   "id": "4a925549975f3038"
  },
  {
   "metadata": {},
   "cell_type": "markdown",
   "source": [
    "## Nech $\\mathbf{U}$ je bazicka matica vlastnych vektorov kovariancnej matice. Potom plati\n",
    "- [ ] $\\mathbf{U}^T = \\mathbf{U}$\n",
    "- [ ] $\\mathbf{U}^T = \\mathbf{U}^{-1}$\n",
    "- [ ] $\\mathbf{U}^2 = \\mathbf{U}^{-1}$\n"
   ],
   "id": "bdff0ed2d4991615"
  },
  {
   "metadata": {},
   "cell_type": "markdown",
   "source": [
    "## Nech $\\mathbf{\\tilde{f}}$ je priemet vektora $\\mathbf{f}$ do podpriestoru s bazickymi vektormi $\\mathbf{b_1}, \\mathbf{b_2}, \\mathbf{b_3}$, potom\n",
    "- [ ] $\\mathbf{\\tilde{f}}$ je linearne zavisly s vektormi $\\mathbf{b_1}, \\mathbf{b_2}, \\mathbf{b_3}$\n",
    "- [ ] $\\mathbf{\\tilde{f}}$ je linearne nezavisly s vektormi $\\mathbf{b_1}, \\mathbf{b_2}, \\mathbf{b_3}$\n",
    "- [ ] $\\mathbf{\\tilde{f}}$ moze byt linearne nezavisly s vektormi $\\mathbf{b_1}, \\mathbf{b_2}, \\mathbf{b_3}$\n"
   ],
   "id": "d08909a1a3414e52"
  },
  {
   "metadata": {},
   "cell_type": "markdown",
   "source": [
    "## Koeficienty $\\mathbf{f}$ v harmonickej baze $\\mathbf{H}$ su $\\mathbf{f} = (1, -2i, ?, 1+i, ?)$. Doplnte v poradi\n",
    "- [ ] $1 - i$, $-2i$\n",
    "- [ ] $2i$, $1 - i$\n",
    "- [ ] $1 - i$, $2i$\n"
   ],
   "id": "e6b1250f9db33e91"
  },
  {
   "metadata": {},
   "cell_type": "markdown",
   "source": [
    "## Proces $\\mathbf{f}$ v harmonickej baze $\\mathbf{H} = \\{ \\mathbf{b_0}, \\mathbf{b_1}, \\dots, \\mathbf{b_6}\\}$ ma spektrum $\\mathbf{f} = (0.5, -0.2+0.2i, -i, 1+i, 1-i, i, -0.2-0.2i)_\\mathbf{H}$. \"Najlepsi\" priemet procesu do 4-rozmerneho priestoru dostaneme, ak premietneme do bazy\n",
    "- [ ] $\\{ \\mathbf{b_2}, \\mathbf{b_3}, \\mathbf{b_4}, \\mathbf{b_5}\\}$\n",
    "- [ ] $\\{ \\mathbf{b_1}, \\mathbf{b_3}, \\mathbf{b_4}, \\mathbf{b_6}\\}$\n",
    "- [ ] $\\{ \\mathbf{b_1}, \\mathbf{b_2}, \\mathbf{b_3}, \\mathbf{b_5}\\}$\n"
   ],
   "id": "daf79c16ae63f501"
  },
  {
   "metadata": {},
   "cell_type": "markdown",
   "source": [
    "## Nech $\\mathbf{\\tilde{f}}$ je priemet dat vektora $\\mathbf{f}$ do podpriestoru s bazickymi vektormi $\\mathbf{b_1}, \\mathbf{b_2}, \\mathbf{b_3}$, potom\n",
    "- [ ] $\\mathbf{\\tilde{f}}$ je linearnou kombinaciou vektorov $\\mathbf{b_1}, \\mathbf{b_2}, \\mathbf{b_3}$\n",
    "- [ ] $\\mathbf{\\tilde{f}}$ je suctom vektorov $\\mathbf{b_1}, \\mathbf{b_2}, \\mathbf{b_3}$\n",
    "- [ ] $\\mathbf{\\tilde{f}}$ moze byt linearnou kombinaciou vektorov $\\mathbf{b_1}, \\mathbf{b_2}, \\mathbf{b_3}$\n"
   ],
   "id": "8c27dcbd0b9ffc12"
  },
  {
   "metadata": {},
   "cell_type": "markdown",
   "source": [
    "## Doplnte maticu $\\mathbf{A} = \\begin{pmatrix} 4 & a & 1 \\\\ b & c & 2 \\\\ 1 & 2 & d \\end{pmatrix}$ tak, aby bola korelacnou maticou\n",
    "- [ ] $a = 2, b = -2, c = 4, d = 4$\n",
    "- [ ] $a = 3, b = 3, c = 4, d = 2$\n",
    "- [ ] $a = 3, b = 3, c = -1, d = 4$\n"
   ],
   "id": "215b05061d4e8d9c"
  },
  {
   "metadata": {},
   "cell_type": "markdown",
   "source": [
    "## Kovarianciu $cov(X, Y)$ vypocitame\n",
    "- [ ] $EX^2 - EY^2$\n",
    "- [ ] $E((X - EX) (Y - EY))$\n",
    "- [ ] $E(XY) - EX \\cdot EY$\n"
   ],
   "id": "e62233eece3e34e"
  },
  {
   "metadata": {},
   "cell_type": "markdown",
   "source": [
    "## Ortoganlna baza $N$-rozmerneho priestoru vzdy predstavuje\n",
    "- [ ] Minimalny pocet navzajom kolmych vektorov\n",
    "- [ ] Maximalny pocet navzajom kolmych vektorov\n",
    "- [ ] Maximalny pocet navzajom nezavislych vektorov\n"
   ],
   "id": "b24178c7f8845a83"
  },
  {
   "metadata": {},
   "cell_type": "markdown",
   "source": [
    "## Odhad kovariancnej matice mozeme ziskat\n",
    "- [ ] Z odhadu strednej hodnoty a disperzie vektorov\n",
    "- [ ] Z distribucnej matice procesu\n",
    "- [ ] Z nameranych hodnot procesu\n"
   ],
   "id": "da0d7044e73cad2f"
  },
  {
   "metadata": {},
   "cell_type": "markdown",
   "source": [
    "## Nech $\\mathbf{f} \\neq 0$. Pre skalarny sucin plati\n",
    "- [ ] $\\langle \\mathbf{f}, 0 \\rangle = \\mathbf{f}$\n",
    "- [ ] $\\langle \\mathbf{f}, \\mathbf{f} \\rangle = 0$\n",
    "- [ ] $\\langle \\mathbf{f}, 0 \\rangle = -1$\n"
   ],
   "id": "151b0b9a909a364b"
  },
  {
   "metadata": {},
   "cell_type": "markdown",
   "source": [
    "## Ktory vektor moze byt prvym riadkom kovariancnej matice nahodneho procesu?\n",
    "- [ ] $(4, 2, 0, -1, 2)$\n",
    "- [ ] $(-4, 3, 1, 1, 3)$\n",
    "- [ ] $(-3, 1, -1)$\n"
   ],
   "id": "2b64d6fd03386a4c"
  },
  {
   "metadata": {},
   "cell_type": "markdown",
   "source": [
    "## V metode PCA 1. hlavny komponent urcuje\n",
    "- [ ] Smer maximalneho rozptylu\n",
    "- [ ] Dominantnu periodu v procese\n",
    "- [ ] Strednu hodnotu v datach"
   ],
   "id": "1bf9c40579769422"
  },
  {
   "metadata": {},
   "cell_type": "markdown",
   "source": [
    "## Pomocou priemetu dat na priamku mozeme\n",
    "- [ ] Zistit priemer dat\n",
    "- [ ] Vyhladit data\n",
    "- [ ] Zistit parabolicky trend $y = c_0 + c_1^t + c_2t^2$\n",
    "\n",
    "---\n"
   ],
   "id": "ceea05ba63d5c02a"
  },
  {
   "metadata": {},
   "cell_type": "markdown",
   "source": [
    "## Vzorec pre koeficient priemetu $c = \\langle \\mathbf{f}, \\mathbf{b} \\rangle$ vektora $\\mathbf{f}$ na podpriestor s bazickym vektorom $\\mathbf{b}$ sme pouzili pri hladani koeficientov\n",
    "- [ ] V polynomickej baze\n",
    "- [ ] V ortogonalnej baze\n",
    "- [ ] V ortonormalnej baze\n"
   ],
   "id": "934331a825306655"
  },
  {
   "metadata": {},
   "cell_type": "markdown",
   "source": [
    "## Koeficient regresnej krivky $y(t) = a + bt + ct^4$ najdeme pomocou priemetu do\n",
    "- [ ] Jedno-rozmerneho podpriestoru\n",
    "- [ ] Troj-rozmerneho podpriestoru\n",
    "- [ ] Stvor-rozmerneho podpriestoru\n"
   ],
   "id": "c14c1502107d92c9"
  },
  {
   "metadata": {},
   "cell_type": "markdown",
   "source": [
    "## Ak proces $\\mathbf{\\tilde{f}}$ je priemetom procesu $\\mathbf{f}$ do podpriestoru, potom pre skalarny sucin plati\n",
    "- [ ] $\\langle \\mathbf{f} - \\mathbf{\\tilde{f}}, \\mathbf{\\tilde{f}} \\rangle = 0$\n",
    "- [ ] $\\langle \\mathbf{f} - \\mathbf{\\tilde{f}}, \\mathbf{f} \\rangle = 0$\n",
    "- [ ] $\\langle \\mathbf{\\tilde{f}} - \\mathbf{f}, \\mathbf{\\tilde{f}} \\rangle = 0$\n"
   ],
   "id": "3e04ade4c263560c"
  },
  {
   "metadata": {},
   "cell_type": "markdown",
   "source": [
    "## Metoda autoregresie sluzi na\n",
    "- [ ] Odhad nasledujucej hodnoty v datach\n",
    "- [ ] Odhad chybajucej hodnoty medzi datami\n",
    "- [ ] Odhad predchadzajucej hodnoty v datach"
   ],
   "id": "9ee42c4faf5fe7fc"
  },
  {
   "metadata": {},
   "cell_type": "markdown",
   "source": [
    "## Nech matica $\\mathbf{B}$ je bazickou maticou $M$-rozmerneho podpriestoru v $N$-rozmernom priestore, $M < N$, potom plati\n",
    "- [ ] $\\mathbf{B}$ je symetricka matica\n",
    "- [ ] $\\mathbf{B}$ je regularna matica\n",
    "- [ ] $\\mathbf{B}$ je stvorcova matica\n"
   ],
   "id": "b0562f8c3a1b78c"
  },
  {
   "metadata": {},
   "cell_type": "markdown",
   "source": [
    "## Ktore funkcie mozeme pouzit pri aproximacii pomocou linearnej regresie?\n",
    "- [ ] $y(t) = a \\sin(bt))$\n",
    "- [ ] $y(t) = a \\sin(\\pi t))$\n",
    "- [ ] $y(t) = a \\sin(\\pi t)) + b \\cos(\\pi t)$\n"
   ],
   "id": "2863403951b4bc10"
  },
  {
   "metadata": {},
   "cell_type": "markdown",
   "source": [
    "## Pre skalarny sucin komplexnych vektorov plati\n",
    "- [ ] $\\langle \\mathbf{f}, \\mathbf{g} \\rangle = \\sum f_k \\cdot g_k$\n",
    "- [ ] $\\langle \\mathbf{f}, \\mathbf{g} \\rangle = \\sum \\overline{f_k} \\cdot g_k$\n",
    "- [ ] $\\langle \\mathbf{f}, \\mathbf{g} \\rangle = \\sum f_k \\cdot \\overline{g_k}$\n"
   ],
   "id": "29d8d6cf56cd285b"
  },
  {
   "metadata": {},
   "cell_type": "markdown",
   "source": [
    "## Diskretnu Fourierovu transformaciu mozeme pouzit\n",
    "- [ ] Na vyhladenie dat\n",
    "- [ ] Na urcenie smeru najvacsieho rozptylu v datach\n",
    "- [ ] Na hladanie polynomickych trendov v datach\n"
   ],
   "id": "dff2be384aa29c52"
  },
  {
   "metadata": {},
   "cell_type": "markdown",
   "source": [
    "## Nech $\\mathbf{U}$ je matica bazickych vektorov, ktorych energia je $n$. Potom\n",
    "- [ ] $\\mathbf{U}\\mathbf{U^T} = \\mathbf{E}$\n",
    "- [ ] $\\mathbf{U}\\mathbf{U^T} = n \\cdot \\mathbf{E}$\n",
    "- [ ] $\\mathbf{U}\\mathbf{U^T} = n^2 \\cdot \\mathbf{E}$\n"
   ],
   "id": "912c92e9844e4641"
  },
  {
   "metadata": {},
   "cell_type": "markdown",
   "source": [
    "## Aby sa dva nahodne procesy rovnali, musia sa rovnat ich\n",
    "- [ ] Stredne hodnoty a disperzie\n",
    "- [ ] Stredne hodnoty a kovariancne matice\n",
    "- [ ] Distribucne funkcie\n"
   ],
   "id": "ebd8301e45ae2477"
  },
  {
   "metadata": {},
   "cell_type": "markdown",
   "source": [
    "## Suradnice $c_k$ a $c_{N-k}$ spektra v Harmonickej baze\n",
    "- [ ] Imaginarne zlozky maju vzdy opacne znamienka\n",
    "- [ ] Realne zlozky maju vzdy maju vzdy opacne znamienka\n",
    "- [ ] Realne zlozky maju vzdy maju vzdy rovnake znamienka\n"
   ],
   "id": "5c9aa9e202ef194a"
  },
  {
   "metadata": {},
   "cell_type": "markdown",
   "source": [
    "## Nech matica $\\mathbf{R}$ je kovariancnou maticou nahodneho procesu. Potom plati\n",
    "- [ ] $\\mathbf{B}$ je symetricka matica\n",
    "- [ ] $\\mathbf{B}$ je singularna matica\n",
    "- [ ] $\\mathbf{B}$ je stvorcova matica\n"
   ],
   "id": "2e9a43b3bdf00462"
  },
  {
   "metadata": {},
   "cell_type": "markdown",
   "source": [
    "## Pre skalarny sucin plati\n",
    "- [ ] $\\langle 2 \\mathbf{f}, \\mathbf{g} \\rangle = 2 \\langle \\mathbf{f}, \\mathbf{g} \\rangle$\n",
    "- [ ] $\\langle 2 \\mathbf{f}, \\mathbf{g} \\rangle = 4 \\langle \\mathbf{f}, \\mathbf{g} \\rangle$\n",
    "- [ ] $\\langle 2 \\mathbf{f}, 2 \\mathbf{g} \\rangle = 8 \\langle \\mathbf{f}, \\mathbf{g} \\rangle$\n"
   ],
   "id": "2bac8a28a1f626b0"
  },
  {
   "metadata": {},
   "cell_type": "markdown",
   "source": [
    "## Ked vynasobime cislo $z = 1 + i$ cislom $e^{i \\dfrac{\\pi}{2}}$ dostaneme cislo\n",
    "- [ ] $i$\n",
    "- [ ] $1 - i$\n",
    "- [ ] $i - 1$\n"
   ],
   "id": "af8971eec6a5e6e1"
  },
  {
   "metadata": {},
   "cell_type": "markdown",
   "source": [
    "## Nech matica $\\mathbf{B}$ je bazickou maticou vektoroveho priestoru $V_m(\\mathbb{R})$ ($m < N$, kde $N$ je dimenzia uvazovaneho priestoru). Potom koeficienty priemetu $c$ vektora $\\mathbf{f}$ do tohto priestoru vypocitame ako\n",
    "- [ ] $c = (\\mathbf{f} \\cdot \\mathbf{B^T}) \\cdot (\\mathbf{B} \\cdot \\mathbf{B^T})^{-1}$\n",
    "- [ ] $c = (\\mathbf{f} \\cdot \\mathbf{B}) \\cdot (\\mathbf{B^T} \\cdot \\mathbf{B})^{-1}$\n",
    "- [ ] $c = \\mathbf{f} \\cdot \\mathbf{B}^{-1}$\n"
   ],
   "id": "d769a26b1753d149"
  },
  {
   "metadata": {},
   "cell_type": "markdown",
   "source": [
    "## Vzdialenost medzi vektormi $\\mathbf{f}$ a $\\mathbf{g}$ je\n",
    "- [ ] $\\sqrt{\\langle \\mathbf{f} - \\mathbf{g}, \\mathbf{f} - \\mathbf{g} \\rangle}$\n",
    "- [ ] $\\sqrt{\\langle \\mathbf{f} + \\mathbf{g}, \\mathbf{f} + \\mathbf{g} \\rangle}$\n",
    "- [ ] $\\sqrt{\\langle \\mathbf{f}, \\mathbf{g} \\rangle}$\n"
   ],
   "id": "846e7a4e1ed14fc0"
  },
  {
   "metadata": {},
   "cell_type": "markdown",
   "source": [
    "## Matica ma tvar $\\mathbf{M} = \\begin{pmatrix} 5 & 1 \\\\ 1 & 5 \\end{pmatrix}$. Ktore su jej vlastne cisla?\n",
    "- [ ] $\\lambda = 3$\n",
    "- [ ] $\\lambda = 2$\n",
    "- [ ] $\\lambda = 1$\n"
   ],
   "id": "acc4e0b3729ff892"
  },
  {
   "metadata": {},
   "cell_type": "markdown",
   "source": [
    "## Piaty vektor $\\mathbf{b_4}$ harmonickej bazy **8-rozmerneho** priestoru je\n",
    "- [ ] $\\left( 1, e^{2 \\pi}, e^{i 4 \\pi}, \\dots, e^{14 \\pi} \\right)$\n",
    "- [ ] $\\left( 1, e^{i \\pi}, e^{i 2 \\pi}, \\dots, e^{7 \\pi} \\right)$\n",
    "- [ ] $\\left( 1, e^{i \\pi}, e^{i 2 \\pi}, \\dots, e^{8 \\pi} \\right)$\n",
    "\n",
    "---\n"
   ],
   "id": "5eb8f2e8439d36c4"
  },
  {
   "metadata": {},
   "cell_type": "markdown",
   "source": [
    "## Bazou $N$-rozmerneho priestoru moze byt\n",
    "- [ ] Minimalny pocet navzajom nezavislych vektorov\n",
    "- [ ] Maximalny pocet navzajom nezavislych vektorov\n",
    "- [ ] Maximalny pocet navzajom kolmych vektorov\n"
   ],
   "id": "7ef4e7e8028effb9"
  },
  {
   "metadata": {},
   "cell_type": "markdown",
   "source": [
    "## Ak vynasobime cislo $z = 1 - i$ cislom $e^{\\dfrac{i \\pi}{2}}$, dostaneme\n",
    "- [ ] $1 - i$\n",
    "- [ ] $1 + i$\n",
    "- [ ] $i - 1$\n"
   ],
   "id": "7b0783202a20aa4c"
  },
  {
   "metadata": {},
   "cell_type": "markdown",
   "source": [
    "## Suradnice $c_i$ vektora $\\mathbf{f}$ v ortogonalnej baze tvorenej vektormi $\\mathbf{b_i}$ ziskame\n",
    "- Pomocou vzorca $c_4 = \\dfrac{\\langle \\mathbf{f}, \\mathbf{b_i} \\rangle}{\\langle \\mathbf{b_i}, \\mathbf{b_i} \\rangle}$\n",
    "- Pomocou vzorca $c_4 = \\langle \\mathbf{f}, \\mathbf{b_i} \\rangle$\n",
    "- Pomocou Gram-Schmidtovej ortogonalizacnej metody\n"
   ],
   "id": "7f9b039a385656ce"
  },
  {
   "metadata": {},
   "cell_type": "markdown",
   "source": [
    "## Cislo $e^{-i \\alpha}$ mozeme zapisat ako\n",
    "- [ ] $\\cos(\\alpha) + i \\cdot \\sin(\\alpha)$\n",
    "- [ ] $- \\cos(\\alpha) - i \\cdot \\sin(\\alpha)$\n",
    "- [ ] $\\cos(\\alpha) - i \\cdot \\sin(\\alpha)$\n"
   ],
   "id": "75f6d911f5bd5977"
  },
  {
   "metadata": {},
   "cell_type": "markdown",
   "source": [
    "## Regresne koeficienty $\\mathbf{c}$ vektora $\\mathbf{f}$ v baze $\\mathbf{B}$ (riadky su bazicke vektory) vypocitame pomocou vzorca\n",
    "- [ ] $\\mathbf{c} = (\\mathbf{f} \\cdot \\mathbf{B}^T)^{-1} \\cdot (\\mathbf{B} \\cdot \\mathbf{B}^T)$\n",
    "- [ ] $\\mathbf{c} = (\\mathbf{f} \\cdot \\mathbf{B}^T) \\cdot (\\mathbf{B} \\cdot \\mathbf{B^T})^{-1}$\n",
    "- [ ] $\\mathbf{c} = (\\mathbf{f} \\cdot \\mathbf{B}^T)^{-1} \\cdot (\\mathbf{B} \\cdot \\mathbf{B})^T$\n"
   ],
   "id": "494c5eb81b702067"
  },
  {
   "metadata": {},
   "cell_type": "markdown",
   "source": [
    "## Pre vektory $\\mathbf{h}_k$ v Harmonickej baze $\\mathbf{H}_N$ plati\n",
    "- [ ] $\\langle \\mathbf{h}_n, \\mathbf{h}_m \\rangle = 0$\n",
    "- [ ] $\\langle \\mathbf{h}_n, \\mathbf{h}_m \\rangle = N$\n",
    "- [ ] $\\langle \\mathbf{h}_n, \\mathbf{h}_m \\rangle = 1$\n"
   ],
   "id": "e2bd25a14bcef7ee"
  },
  {
   "metadata": {},
   "cell_type": "markdown",
   "source": [
    "## Pri hladani koeficientov regresnej funkcie $y(t) = a + be^t$ v bodoch $t = (0, 1, \\dots, N)$ pomocou MNS pouzijeme bazu\n",
    "- [ ] $b_1 = (0, 0, \\dots, 0)$, $b_2 = (0, 1, \\dots, N)$\n",
    "- [ ] $b_1 = (1, 1, \\dots, 1)$, $b_2 = (0, 1, \\dots, N)$\n",
    "- [ ] $b_1 = (1, 1, \\dots, 1)$, $b_2 = (e^0, e^1, \\dots, e^N)$\n"
   ],
   "id": "b5be8155221c73c8"
  },
  {
   "metadata": {},
   "cell_type": "markdown",
   "source": [
    "## Ktore funkcie mozeme pouzit pri aproximacii pomocou linearnej regresie?\n",
    "- [ ] $y(t) = a + be^t$\n",
    "- [ ] $y(t) = a + be^{ct}$\n",
    "- [ ] $y(t) = a + b^t$\n"
   ],
   "id": "af9f16f125d0fab8"
  },
  {
   "metadata": {},
   "cell_type": "markdown",
   "source": [
    "## Velkostou procesu $\\mathbf{f}$ nazveme vyraz\n",
    "- [ ] $\\sqrt{\\langle \\mathbf{f}, 0 \\rangle}$\n",
    "- [ ] $\\sqrt{\\langle \\mathbf{f}, \\mathbf{f} \\rangle}$\n",
    "- [ ] $\\langle \\mathbf{f}, 0 \\rangle$\n"
   ],
   "id": "550504386ce71b1b"
  },
  {
   "metadata": {},
   "cell_type": "markdown",
   "source": [
    "## Ktore cislo je riesenim rovnice $z^3 = 1$?\n",
    "- [ ] $e^{i 2 \\pi}$\n",
    "- [ ] $e^{\\dfrac{i 2 \\pi}{3}}$\n",
    "- [ ] $e^{\\dfrac{i \\pi}{3}}$\n"
   ],
   "id": "51bfc9dd3f5ff2c2"
  },
  {
   "metadata": {},
   "cell_type": "markdown",
   "source": [
    "## Nech matica $\\mathbf{A}$ ma vlastne cislo $\\lambda$ a vlastny riadkovy vektor $\\mathbf{v}$. Potom plati:\n",
    "- [ ] $\\mathbf{Av}^T = \\lambda \\mathbf{v}^T$\n",
    "- [ ] $\\mathbf{A} \\lambda = \\lambda \\mathbf{v}^T$\n",
    "- [ ] $\\mathbf{A} \\lambda = \\mathbf{A} \\mathbf{v}^T$\n"
   ],
   "id": "5ed89aa7e90046fe"
  },
  {
   "metadata": {},
   "cell_type": "markdown",
   "source": [
    "## Vektor $(1 , 2)$ ma suradnice $(1, 1)_\\mathbf{B}$ v baze\n",
    "- [ ] $\\mathbf{B} = \\begin{pmatrix} 0 & 1 \\\\ 1 & 1 \\end{pmatrix}$\n",
    "- [ ] $\\mathbf{B} = \\begin{pmatrix} 1 & 1 \\\\ 1 & -1 \\end{pmatrix}$\n",
    "- [ ] $\\mathbf{B} = \\begin{pmatrix} -1 & 1 \\\\ 1 & 1 \\end{pmatrix}$\n"
   ],
   "id": "ea3a7a89be77f47f"
  },
  {
   "metadata": {},
   "cell_type": "markdown",
   "source": [
    "## Vlastne cislo matice $\\mathbf{A} = \\begin{pmatrix} 4 & 2 \\\\ 2 & 4 \\end{pmatrix}$\n",
    "- [ ] $2$\n",
    "- [ ] $4$\n",
    "- [ ] $8$\n"
   ],
   "id": "6e833a2c917909ec"
  },
  {
   "metadata": {},
   "cell_type": "markdown",
   "source": [
    "## Pre skalarny sucin plati\n",
    "- [ ] $\\langle 2 \\mathbf{f}, 2 \\mathbf{g} \\rangle = 4 \\langle \\mathbf{f}, \\mathbf{g} \\rangle$\n",
    "- [ ] $\\langle 2 \\mathbf{f}, 2 \\mathbf{g} \\rangle = 2 \\langle \\mathbf{f}, \\mathbf{g} \\rangle$\n",
    "- [ ] $\\langle 2 \\mathbf{f}, 2 \\mathbf{g} \\rangle = \\langle \\mathbf{f}, \\mathbf{g} \\rangle$\n"
   ],
   "id": "641fba77dc3bf5ba"
  },
  {
   "metadata": {},
   "cell_type": "markdown",
   "source": [
    "## Pomocou autoregresnych modelov $AR(n)$ vieme odhadnut\n",
    "- [ ] Predchadzajuce hodnoty procesu\n",
    "- [ ] Nasledujuce hodnoty procesu\n",
    "- [ ] Chybajuce hodnoty v procese (nie na zaciatku ani na konci)"
   ],
   "id": "a3cc62701e8771cf"
  },
  {
   "metadata": {},
   "cell_type": "markdown",
   "source": [
    "## Pre skalarny sucin komplexnych vektorov plati\n",
    "- [ ] $\\langle \\mathbf{f}, \\mathbf{g} \\rangle = \\sum f_k \\cdot \\overline{g_k}$\n",
    "- [ ] $\\langle \\mathbf{f}, \\mathbf{g} \\rangle = \\sum \\overline{f_k} \\cdot g_k$\n",
    "- [ ] $\\langle \\mathbf{f}, \\mathbf{g} \\rangle = \\sum \\overline{f_k} \\cdot \\overline{g_k}$\n"
   ],
   "id": "da8d11245692860"
  },
  {
   "metadata": {},
   "cell_type": "markdown",
   "source": [
    "## Pomocou priemetu procesu do Polynomickej bazy $\\mathbf{B}_N$ vieme urcit\n",
    "- [ ] Dominantnu periodu v procese\n",
    "- [ ] Strednu hodnotu v procese\n",
    "- [ ] Smer maximalneho rozptylu v procese"
   ],
   "id": "d6a1a2ea3a63a7e8"
  },
  {
   "metadata": {},
   "cell_type": "markdown",
   "source": [
    "## Ak proces $\\mathbf{\\tilde{f}}$ je najlepsim odhadom procesu $\\mathbf{f}$, potom pre skalarny sucin procesov plati\n",
    "- [ ] $\\langle \\mathbf{\\tilde{f}}, \\mathbf{f} \\rangle = 1$\n",
    "- [ ] $\\langle \\mathbf{f} - \\mathbf{\\tilde{f}}, \\mathbf{\\tilde{f}} \\rangle = 1$\n",
    "- [ ] $\\langle \\mathbf{f} + \\mathbf{\\tilde{f}}, \\mathbf{\\tilde{f}} \\rangle = 1$\n",
    "\n",
    "---\n"
   ],
   "id": "5efc4398046f9223"
  },
  {
   "metadata": {},
   "cell_type": "markdown",
   "source": [
    "## Ktore cisla mozu predstavovat spektrum (v Harmonickej baze $\\mathbf{H}_5$) procesu $\\mathbf{f}$?\n",
    "- [ ] $(1, 1-i, -2i, -2i, 1-i)$\n",
    "- [ ] $(0, 1-i, -2i, 1+i, 2i)$\n",
    "- [ ] $(-1, 1-i, 2i, -2i, 1+i)$\n"
   ],
   "id": "19e2d3d9e116fd46"
  },
  {
   "metadata": {},
   "cell_type": "markdown",
   "source": [
    "## V kolkorozmernom priestore dostaneme najlepsiu aproximaciu vektora $\\mathbf{f} = (f_0, f_1, \\dots, f_N)$\n",
    "- [ ] V jednorozmernom\n",
    "- [ ] V ($N-1$)-rozmernom\n",
    "- [ ] V $N$-rozmernom\n"
   ],
   "id": "b1efb807643e46d4"
  },
  {
   "metadata": {},
   "cell_type": "markdown",
   "source": [
    "## Nech kovariancna matica je $\\mathbf{R} = \\begin{pmatrix} 4 & 2 \\\\ 2 & 4 \\end{pmatrix}$. Ktore su jej vlastne vektory?\n",
    "- [ ] $(1, 1)$\n",
    "- [ ] $(1, 0)$\n",
    "- [ ] $(1, -1)$\n"
   ],
   "id": "7873e24b8080a578"
  },
  {
   "metadata": {},
   "cell_type": "markdown",
   "source": [
    "## Ktore funkcie mozeme pouzit pri aproximacii pomocou linearnej regresie?\n",
    "- [ ] $y(t) = a + bt$\n",
    "- [ ] $y(t) = a + be^t$\n",
    "- [ ] $y(t) = a + \\cos(bt)$\n"
   ],
   "id": "3e798c0f0a05df6d"
  },
  {
   "metadata": {},
   "cell_type": "markdown",
   "source": [
    "## Velkostou procesu $\\mathbf{f}$ nazveme vyraz\n",
    "- [ ] $|| \\mathbf{f} || ^2$\n",
    "- [ ] $\\sqrt{\\langle \\mathbf{f}, \\mathbf{f} \\rangle}$\n",
    "- [ ] $\\langle \\mathbf{f}, 0 \\rangle$\n"
   ],
   "id": "664a8b41de7cbf28"
  },
  {
   "metadata": {},
   "cell_type": "markdown",
   "source": [
    "## Doplne maticu $\\mathbf{A} = \\begin{pmatrix} 4 & a & 1 \\\\ b & c & 2 \\\\ 1 & 2 & d \\end{pmatrix}$ tak, aby mohla byt korelacnou maticou\n",
    "- [ ] $a=3, b=3, c=4, d=-2$\n",
    "- [ ] $a=2, b=2, c=0, d=4$\n",
    "- [ ] $a=2, b=-2, c=0, d=4$\n"
   ],
   "id": "7883249e1c2c74d4"
  },
  {
   "metadata": {},
   "cell_type": "markdown",
   "source": [
    "## Nutna podmienka pre existenciu inverznej matice $\\mathbf{A}^{-1}$ je, ze matica $\\mathbf{A}$ musi byt\n",
    "- [ ] Regularna\n",
    "- [ ] Diagonalna\n",
    "- [ ] Symetricka\n"
   ],
   "id": "4d0366b8bf114636"
  },
  {
   "metadata": {},
   "cell_type": "markdown",
   "source": [
    "## Ktore cislo je riesenim rovnice $z^4 = 1$\n",
    "- [ ] $e^{\\dfrac{i \\pi}{2}}$\n",
    "- [ ] $e^{\\dfrac{i \\pi}{4}}$\n",
    "- [ ] $e^{\\dfrac{i \\pi}{8}}$\n"
   ],
   "id": "425cae8e5a1a7a0d"
  },
  {
   "metadata": {},
   "cell_type": "markdown",
   "source": [
    "## Nech matica $\\mathbf{A}$ ma vlastne cislo $\\lambda$ a vlastny riadkovy vektor $\\mathbf{v}$. Potom plati\n",
    "- [ ] $\\mathbf{A} \\lambda = \\lambda \\mathbf{v}^T$\n",
    "- [ ] $\\mathbf{A} \\mathbf{v}^T = \\lambda \\mathbf{v}^T$\n",
    "- [ ] $\\mathbf{A} \\lambda = \\mathbf{Av}^T$\n"
   ],
   "id": "c2558963a1448686"
  },
  {
   "metadata": {},
   "cell_type": "markdown",
   "source": [
    "## Vektor $(1, 2)$ ma suradnice $(1, 1)_\\mathbf{B}$ v baze\n",
    "- [ ] $\\mathbf{A} = \\begin{pmatrix} 0 & 1 \\\\ 1 & 1 \\end{pmatrix}$\n",
    "- [ ] $\\mathbf{A} = \\begin{pmatrix} 1 & 1 \\\\ 1 & -1 \\end{pmatrix}$\n",
    "- [ ] $\\mathbf{A} = \\begin{pmatrix} -1 & 1 \\\\ 1 & 1 \\end{pmatrix}$\n"
   ],
   "id": "81887172a38b3eb1"
  },
  {
   "metadata": {},
   "cell_type": "markdown",
   "source": [
    "## Vlastne cislo matice $\\mathbf{A} = \\begin{pmatrix} 4 & 2 \\\\ 2 & 4 \\end{pmatrix}$, je\n",
    "- [ ] $2$\n",
    "- [ ] $4$\n",
    "- [ ] $8$\n"
   ],
   "id": "3c8e02812dd9f1e"
  },
  {
   "metadata": {},
   "cell_type": "markdown",
   "source": [
    "## Pre skalarny sucin plati\n",
    "- [ ] $\\langle 2 \\mathbf{f}, \\mathbf{g} \\rangle = 4 \\langle \\mathbf{f}, \\mathbf{g} \\rangle$\n",
    "- [ ] $\\langle 2 \\mathbf{f}, 2 \\mathbf{g} \\rangle = 2 \\langle \\mathbf{f}, \\mathbf{g} \\rangle$\n",
    "- [ ] $\\langle 2 \\mathbf{f}, 2 \\mathbf{g} \\rangle = 4 \\langle \\mathbf{f}, \\mathbf{g} \\rangle$\n"
   ],
   "id": "69e8527c33464cd8"
  },
  {
   "metadata": {},
   "cell_type": "markdown",
   "source": [
    "## Pomocou autoregresnych modelov $AR(n)$ vieme odhadnut\n",
    "- [ ] Predchadzajuce hodnoty procesu\n",
    "- [ ] Nasledujuce hodnoty procesu\n",
    "- [ ] Chybajuce hodnoty v procese (ani na zaciatku ani na konci)\n"
   ],
   "id": "611fab04a6cbd710"
  },
  {
   "metadata": {},
   "cell_type": "markdown",
   "source": [
    "## Pre skalarny sucin komplexnych vektorov plati\n",
    "- [ ] $\\langle \\mathbf{f}, \\mathbf{g} \\rangle = \\sum f_k \\cdot g_k$\n",
    "- [ ] $\\langle \\mathbf{f}, \\mathbf{g} \\rangle = \\sum \\overline{f_k} \\cdot g_k$\n",
    "- [ ] $\\langle \\mathbf{f}, \\mathbf{g} \\rangle = \\sum f_k \\cdot \\overline{g_k}$\n"
   ],
   "id": "64f85f980ccdd357"
  },
  {
   "metadata": {},
   "cell_type": "markdown",
   "source": [
    "## Pomocou priemetu procesu do Harmonickej bazy $\\mathbf{H}_N$ viemer urcit\n",
    "- [ ] Dominantnu periodu v procese\n",
    "- [ ] Strednu hodnotu v procese\n",
    "- [ ] Smer maximalneho rozptylu v procese"
   ],
   "id": "412295accd39c2ca"
  },
  {
   "metadata": {},
   "cell_type": "markdown",
   "source": [
    "## Ak proces $\\mathbf{\\tilde{f}}$ je najlepsim odhadom procesu $\\mathbf{f}$, potom pre skalarny sucin plati\n",
    "- [ ] $\\langle \\mathbf{\\tilde{f}}, \\mathbf{f} \\rangle = 1$\n",
    "- [ ] $\\langle \\mathbf{f} - \\mathbf{\\tilde{f}}, \\mathbf{\\tilde{f}} \\rangle = 1$\n",
    "- [ ] $\\langle \\mathbf{f} - \\mathbf{\\tilde{f}}, \\mathbf{\\tilde{f}} \\rangle = 0$\n"
   ],
   "id": "42ae5e1460af4eda"
  },
  {
   "metadata": {},
   "cell_type": "markdown",
   "source": [
    "## Komplexne suradnice $c_N$ a $c_{N-n}$ procesu v Harmonickej baze $\\mathbf{H}_N$\n",
    "- [ ] Su rovnake\n",
    "- [ ] Maju opance znamienka\n",
    "- [ ] Su komplexne zdruzene\n"
   ],
   "id": "c5e919a7e76287e"
  },
  {
   "metadata": {},
   "cell_type": "markdown",
   "source": [
    "## Nech $\\mathbf{U}$ je bazicka matica. Potom plati\n",
    "- [ ] $\\mathbf{U}^{-1} = \\mathbf{U}$\n",
    "- [ ] $\\mathbf{U}^{-1} = \\mathbf{U}^2$\n",
    "- [ ] $\\mathbf{U}^{-1} = \\mathbf{U}^T$\n",
    "\n",
    "---\n"
   ],
   "id": "328ca42573c7871a"
  },
  {
   "metadata": {},
   "cell_type": "markdown",
   "source": [
    "## Koeficienty $\\mathbf{f}$ v harmonickej baze $\\mathbf{H}$ su $\\mathbf{f} = (1, ?, -2i, ?, 1-i)$. Doplnte v poradi\n",
    "- [ ] $i + 1$, $2i$\n",
    "- [ ] $i - 1$, $-2i$\n",
    "- [ ] $2i$, $1 + i$\n"
   ],
   "id": "7c44173ce3448ba4"
  },
  {
   "metadata": {},
   "cell_type": "markdown",
   "source": [
    "## Harmonicku bazu 4-rozmerneho priestoru tvoria vektory\n",
    "- [ ] $(1, 1, 1, 1)$, $(1, i, -i, -1)$, $(1, -1, 1, -1)$, $(1, -i, i, -1)$\n",
    "- [ ] $(1, 1, 1, 1)$, $(1, i, 1, i)$, $(1, -1, 1, -1)$, $(1, -i, 1, -i)$,\n",
    "- [ ] $(1, 1, 1, 1)$, $(1, i, -1, -i)$, $(1, -1, 1, -1)$, $(1, -i, -1, i)$,\n"
   ],
   "id": "88f4a1e215e544f6"
  },
  {
   "metadata": {},
   "cell_type": "markdown",
   "source": [
    "## Nech kovariancna matica $\\mathbf{R} = \\begin{pmatrix} 4 & 2 & 1 \\\\ 2 & 4 & 2 \\\\ 1 & 2 & 4 \\end{pmatrix}$. Ktore su jej vlastne vektory?\n",
    "- [ ] (1, 1, 1)\n",
    "- [ ] (1, 0, 2)\n",
    "- [ ] (1, 0, -1)\n"
   ],
   "id": "c5ba95d9a8b097a6"
  },
  {
   "metadata": {},
   "cell_type": "markdown",
   "source": [
    "## Ktore funkcie mozeme pouzit pri aproximacii pomocou linearnej regresie?\n",
    "- [ ] $y(t) = (c_1 + c_2t)^2$\n",
    "- [ ] $y(t) = c_1 + c_2e^t$\n",
    "- [ ] $y(t) = c_1t + c_2 \\cdot \\ln(t)$\n"
   ],
   "id": "c35f7c830e171261"
  },
  {
   "metadata": {},
   "cell_type": "markdown",
   "source": [
    "## Do spektra procesu $\\mathbf{f} = (2, 0, 2, 4)$ v harmonickej baze patria cisla\n",
    "- [ ] $0$\n",
    "- [ ] $1$\n",
    "- [ ] $8$\n"
   ],
   "id": "ace20251cc1159a0"
  },
  {
   "metadata": {},
   "cell_type": "markdown",
   "source": [
    "## Doplnte maticu $\\mathbf{A} = \\begin{pmatrix} 4 & a & 1 \\\\ b & c & 2 \\\\ 1 & 2 & d \\end{pmatrix}$ tak, aby bola korelacnou maticou\n",
    "- [ ] $a=3$, $b=3$, $c=4$, $d=2$\n",
    "- [ ] $a=2$, $b=-2$, $c=4$, $d=4$\n",
    "- [ ] $a=3$, $b=3$, $c=-1$, $d=4$\n"
   ],
   "id": "359968a2f390dd96"
  },
  {
   "metadata": {},
   "cell_type": "markdown",
   "source": [
    "## Nutna podmienka pre existenciu inverznej matice $\\mathbf{A}^{-1}$ je, ze matica $\\mathbf{A}$ musi byt\n",
    "- [ ] Symetricka\n",
    "- [ ] Diagonalna\n",
    "- [ ] Stvorcova\n"
   ],
   "id": "6b3515154ca93f21"
  },
  {
   "metadata": {},
   "cell_type": "markdown",
   "source": [
    "## Ktore cislo je riesenim rovnice $z^4 = 1$?\n",
    "- [ ] $e^{i \\pi}$\n",
    "- [ ] $e^{\\dfrac{i \\pi}{2}}$\n",
    "- [ ] $e^{\\dfrac{i \\pi}{4}}$\n"
   ],
   "id": "d4bdf1d65f5abdb2"
  },
  {
   "metadata": {},
   "cell_type": "markdown",
   "source": [
    "## Ktory vektor je najblizsie k vektoru $(2, 4, 8)$?\n",
    "- [ ] $(2, 4, 0)$\n",
    "- [ ] $(0, 4, 8)$\n",
    "- [ ] $(2, 0, 8)$\n"
   ],
   "id": "10bcfbae3afdfca9"
  },
  {
   "metadata": {},
   "cell_type": "markdown",
   "source": [
    "## Vektor $(2, 0)$ ma suradnice $(1, 1)_\\mathbf{B}$ v baze\n",
    "- [ ] $\\mathbf{B} = \\begin{pmatrix} 0 & 1 \\\\ 1 & 1 \\end{pmatrix}$\n",
    "- [ ] $\\mathbf{B} = \\begin{pmatrix} 1 & 1 \\\\ 1 & -1 \\end{pmatrix}$\n",
    "- [ ] $\\mathbf{B} = \\begin{pmatrix} -1 & 1 \\\\ 1 & 1 \\end{pmatrix}$\n"
   ],
   "id": "3e5e129d6150987a"
  },
  {
   "metadata": {},
   "cell_type": "markdown",
   "source": [
    "## Vlastne cislo matice $\\mathbf{A} = \\begin{pmatrix} 5 & 2 \\\\ 2 & 5 \\end{pmatrix}$\n",
    "- [ ] $2$\n",
    "- [ ] $3$\n",
    "- [ ] $4$\n"
   ],
   "id": "91b3f757f96234a1"
  },
  {
   "metadata": {},
   "cell_type": "markdown",
   "source": [
    "## Pre aproximaciu procesu pomocou linearnej regresie casove okamihy, v ktorych je proces merany\n",
    "- [ ] Musia byt ekvidistancne\n",
    "- [ ] Nesmu byt ekvidistancne\n",
    "- [ ] Nemusia byt ekvidistancne\n"
   ],
   "id": "4ef1a98b0d67ea11"
  },
  {
   "metadata": {},
   "cell_type": "markdown",
   "source": [
    "## Metoda klzaveho priemeru umoznuje vypocitat odhad\n",
    "- [ ] Predchadzajucej hodnoty procesu\n",
    "- [ ] Nasledujucej hodnoty procesu\n",
    "- [ ] Chybajucej hodnoty procesu (nie na zaciatku ani na konci)\n"
   ],
   "id": "ac987543af6ea502"
  },
  {
   "metadata": {},
   "cell_type": "markdown",
   "source": [
    "## Dva nahodne pocesy sa navzajom rovnaju, ak maju rovnake\n",
    "- [ ] Distribucne funkcie\n",
    "- [ ] Kovariancne matice a stredne hodnoty\n",
    "- [ ] Rozptyly a stredne hodnoty\n"
   ],
   "id": "91da3e7907dc19c4"
  },
  {
   "metadata": {},
   "cell_type": "markdown",
   "source": [
    "## V metode PCA, 1. hlavny komponent urcuje\n",
    "- [ ] Dominantnu periodu v procese\n",
    "- [ ] Strednu hodnotu v procese\n",
    "- [ ] Smer maximalneho rozptylu v procese"
   ],
   "id": "a1eeec5a56a2b99d"
  },
  {
   "metadata": {},
   "cell_type": "markdown",
   "source": [
    "## Ak proces $\\mathbf{\\tilde{f}}$ je najlepsim odhadom procesu $\\mathbf{f}$, potom pre skalarny sucin procesov plati\n",
    "- [ ] $\\langle \\mathbf{f} - \\mathbf{\\tilde{f}}, \\mathbf{f} \\rangle = 0$\n",
    "- [ ] $\\langle \\mathbf{f} - \\mathbf{\\tilde{f}}, \\mathbf{\\tilde{f}} \\rangle = 0$\n",
    "- [ ] $\\langle \\mathbf{\\tilde{f}}, \\mathbf{f} \\rangle = 0$\n"
   ],
   "id": "96e3fe1b8a5fbda"
  },
  {
   "metadata": {},
   "cell_type": "markdown",
   "source": [
    "## Suradnice $c_N$ a $c_{N-n}$ spektra procesu v harmonickej baze\n",
    "- [ ] Su rovnake\n",
    "- [ ] Maju opacne znamienka\n",
    "- [ ] Su opacne, ich sucet je 0\n"
   ],
   "id": "82cc0a13213f918b"
  },
  {
   "metadata": {},
   "cell_type": "markdown",
   "source": [
    "## Nech $\\mathbf{U}$ je bazicka matica normovanych vlastnych vektorov kovariancnej matice. Potom\n",
    "- [ ] $\\mathbf{U}^{-1} = \\mathbf{U}$\n",
    "- [ ] $\\mathbf{U}^{-1} = \\mathbf{U}^2$\n",
    "- [ ] $\\mathbf{U}^{-1} = \\mathbf{U}^T$\n"
   ],
   "id": "d9b3d4069a4ccda"
  }
 ],
 "metadata": {
  "kernelspec": {
   "display_name": "Python 3",
   "language": "python",
   "name": "python3"
  },
  "language_info": {
   "codemirror_mode": {
    "name": "ipython",
    "version": 2
   },
   "file_extension": ".py",
   "mimetype": "text/x-python",
   "name": "python",
   "nbconvert_exporter": "python",
   "pygments_lexer": "ipython2",
   "version": "2.7.6"
  }
 },
 "nbformat": 4,
 "nbformat_minor": 5
}
