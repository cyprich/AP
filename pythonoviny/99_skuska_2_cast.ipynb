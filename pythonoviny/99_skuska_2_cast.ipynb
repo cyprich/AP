{
 "cells": [
  {
   "metadata": {},
   "cell_type": "markdown",
   "source": [
    "# 2. cast skusky\n",
    "\n",
    "Zozbierane prikladiky na druhu cast skusky\n",
    "\n",
    "Teoreticke otazky, na vyber z 3 odpovedi (nemusi tam byt spravna odpoved), davaju sa minusove body za nespravnu odpoved\n",
    "\n",
    "Zaskrtnuty checkbox = *asi (dufam)* spravna odpoved\n",
    "\n",
    "Asi 18 prikladov za 20 bodov, treba 11 bodov, cas cca 20 minut\n",
    "\n",
    "Mozno sa budu niektore otazky opakovat ale whatever\n",
    "\n",
    "---\n"
   ],
   "id": "e52dc60694df9ffc"
  },
  {
   "metadata": {},
   "cell_type": "markdown",
   "source": [
    "## Velkostou procesu $\\mathbf{f}$ nazveme vyraz\n",
    "- [ ] $\\sqrt{\\langle \\mathbf{f}, \\mathbf{f} \\rangle}$\n",
    "- [ ] $\\sqrt{d\\langle \\mathbf{f}, 0 \\rangle}$\n",
    "- [ ] $|| \\mathbf{f} || ^2$\n"
   ],
   "id": "6454fa555b0aed2d"
  },
  {
   "metadata": {},
   "cell_type": "markdown",
   "source": [
    "## Koeficienty regresnej krivky $y = at^3$ najdeme pomocou priemetu do\n",
    "- [ ] Jedno-rozmerneho priestoru\n",
    "- [ ] Dvoj-rozmerneho priestoru\n",
    "- [ ] Troj-rozmerneho priestoru\n",
    "\n"
   ],
   "id": "8f1f14b401f922b1"
  },
  {
   "metadata": {},
   "cell_type": "markdown",
   "source": [
    "## Matica $cov(f) = \\begin{pmatrix} 5 & 1 \\\\ 1 & 5 \\end{pmatrix}$ ma vlastny vektor\n",
    "- [ ] $\\mathbf{b} = (1, -1)$\n",
    "- [ ] $\\mathbf{b} = (-1, 1)$\n",
    "- [ ] $\\mathbf{b} = (1, 1)$\n"
   ],
   "id": "60b7cf176b959931"
  },
  {
   "metadata": {},
   "cell_type": "markdown",
   "source": [
    "## Matica $cov(f) = \\begin{pmatrix} 5 & 1 \\\\ 1 & 5 \\end{pmatrix}$ ma vlastne cislo\n",
    "- [ ] $\\lambda = 4$\n",
    "- [ ] $\\lambda = 5$\n",
    "- [ ] $\\lambda = 6$\n",
    "\n"
   ],
   "id": "e217710806a56580"
  },
  {
   "metadata": {},
   "cell_type": "markdown",
   "source": [
    "## Nech matica $\\mathbf{A}$ ma vlastne cislo $\\lambda$ a vlastny vektor $\\mathbf{v}$. Potom plati\n",
    "- [ ] $\\mathbf{A} \\lambda = \\lambda \\mathbf{v}$\n",
    "- [ ] $\\mathbf{A} \\mathbf{v} = \\mathbf{v} \\lambda$\n",
    "- [ ] $\\mathbf{A} \\mathbf{v} = \\lambda \\mathbf{v}$\n"
   ],
   "id": "a4cb6bf49f9100ef"
  },
  {
   "metadata": {},
   "cell_type": "markdown",
   "source": [
    "## Nech $\\mathbf{U}$ je bazicka matica vlastnych vektorov kovariancnej matice. Potom plati\n",
    "- [ ] $\\mathbf{U}^T = \\mathbf{U}$\n",
    "- [ ] $\\mathbf{U}^T = \\mathbf{U}^{-1}$\n",
    "- [ ] $\\mathbf{U}^T = \\mathbf{U}^{-2}$\n"
   ],
   "id": "3f7fa869ae4fdf84"
  },
  {
   "metadata": {},
   "cell_type": "markdown",
   "source": [
    "## Ktore funkcie mozeme pouzit pri aproximacii pomocou linearnej regresie?\n",
    "- [ ] $y(t) = c_1 e^{i \\pi t}$\n",
    "- [ ] $y(t) = c_0 + c_1 e^{i \\pi t}$\n",
    "- [ ] $y(t) = c_0 + c_1 e^{c_2 \\pi t}$\n"
   ],
   "id": "de6e38817b9961db"
  },
  {
   "metadata": {},
   "cell_type": "markdown",
   "source": [
    "## Pre skalarny sucin komplexnych vektorov plati\n",
    "- [ ] $\\langle \\mathbf{f}, \\mathbf{g} \\rangle = \\sum f_k \\cdot g_k$\n",
    "- [ ] $\\langle \\mathbf{f}, \\mathbf{g} \\rangle = \\sum f_k \\cdot \\overline{g_k}$\n",
    "- [ ] $\\langle \\mathbf{f}, \\mathbf{g} \\rangle = \\sum \\overline{f_k} \\cdot g_k$\n"
   ],
   "id": "6a20dd83f9acc1e8"
  },
  {
   "metadata": {},
   "cell_type": "markdown",
   "source": [
    "## Proces $\\mathbf{f}$ v harmonickej baze $\\mathbf{H} = \\{ \\mathbf{b_0}, \\mathbf{b_1}, \\mathbf{b_2}, \\mathbf{b_3}, \\mathbf{b_4}, \\mathbf{b_5}, \\mathbf{b_6} \\}$ ma spektrum $\\mathbf{f} = (0.5, -0.2+0.2i, -i, 1+i, 1-i, i, -0.2-0.2i)_\\mathbf{H}$. \"Najlepsi\" priemet procesu do 4-rozmerneho priestoru dostaneme, ak premietame do bazy:\n",
    "- [ ] ${\\mathbf{b_1}, \\mathbf{b_3}, \\mathbf{b_4}, \\mathbf{b_6}}$\n",
    "- [ ] ${\\mathbf{b_1}, \\mathbf{b_2}, \\mathbf{b_3}, \\mathbf{b_5}}$\n",
    "- [ ] ${\\mathbf{b_2}, \\mathbf{b_3}, \\mathbf{b_4}, \\mathbf{b_5}}$\n"
   ],
   "id": "2d7f2f089fc7ec3b"
  },
  {
   "metadata": {},
   "cell_type": "markdown",
   "source": [
    "## Nech $\\mathbf{\\overline{f}}$ je priemet vektora $\\mathbf{f}$ do podpriestoru s bazickymi vektormi $\\mathbf{b_1}, \\mathbf{b_2}, \\mathbf{b_3}$, potom\n",
    "- [ ] $\\mathbf{\\overline{f}}$ je linearnou kombinacou vektorov $\\mathbf{b_1}, \\mathbf{b_2}, \\mathbf{b_3}$\n",
    "- [ ] $\\mathbf{\\overline{f}}$ je suctom vektorov $\\mathbf{b_1}, \\mathbf{b_2}, \\mathbf{b_3}$\n",
    "- [ ] $\\mathbf{\\overline{f}}$ je linearne nezavisly s vektormi $\\mathbf{b_1}, \\mathbf{b_2}, \\mathbf{b_3}$\n"
   ],
   "id": "b2bd35d0d2a8b411"
  },
  {
   "metadata": {},
   "cell_type": "markdown",
   "source": [
    "## Doplnte maticu $\\mathbf{A} = \\begin{pmatrix} 4 & a & 1 \\\\ b & c & 2 \\\\ 1 & 2 & d \\end{pmatrix}$ aby bola korelacnou maticou\n",
    "- [ ] $a = 2, b = -2, c = 4, d = 4$\n",
    "- [ ] $a = 3, b = 3, c = 4, d = 2$\n",
    "- [ ] $a = 3, b = 3, c = -1, d = 4$\n"
   ],
   "id": "d07fd19ae94eeee9"
  },
  {
   "metadata": {},
   "cell_type": "markdown",
   "source": [
    "## Kovarianciu $cov(X, Y)$ vypocitame\n",
    "- [ ] $EX^2 - EY^2$\n",
    "- [ ] $E((X - EX) (Y - EY))$\n",
    "- [ ] $E(XY) - E(XY)^2$\n"
   ],
   "id": "c9d9c6bf4ee11043"
  },
  {
   "metadata": {},
   "cell_type": "markdown",
   "source": [
    "## Baza $N$-rozmerneho priestoru je\n",
    "- [ ] Minimalny pocet navzajom kolmych vektorov\n",
    "- [ ] Maximalny pocet navzajom kolmych vektorov\n",
    "- [ ] Minimalny pocet navzajom nezavislych vektorov\n"
   ],
   "id": "f9c0074cc4c43800"
  },
  {
   "metadata": {},
   "cell_type": "markdown",
   "source": [
    "## Kovariancnu maticy $NP$ (nie jej odhad) sa da vypocitat len\n",
    "- [ ] Zo strednej hodnoty a disperzie procesu\n",
    "- [ ] Z distribucnej funkcie\n",
    "- [ ] Z nameranych hodnot\n"
   ],
   "id": "e81d7312ad1647e1"
  },
  {
   "metadata": {},
   "cell_type": "markdown",
   "source": [
    "## Pre skalarny sucin plati\n",
    "- [ ] $\\langle 2 \\mathbf{f}, \\mathbf{g} \\rangle = 2 \\langle \\mathbf{f}, \\mathbf{g} \\rangle$\n",
    "- [ ] $\\langle 2 \\mathbf{f}, 2 \\mathbf{g} \\rangle = 2 \\langle \\mathbf{f}, \\mathbf{g} \\rangle$\n",
    "- [ ] $\\langle 4 \\mathbf{f}, \\mathbf{g} \\rangle = 2 \\langle \\mathbf{f}, \\mathbf{g} \\rangle$\n"
   ],
   "id": "ab54d1294c48ec5d"
  },
  {
   "metadata": {},
   "cell_type": "markdown",
   "source": [
    "## Ktory vektor moze byt prvym riadkom kovariancnej matice nahodneho procesu?\n",
    "- [ ] $(-4, 2, 0, -1, 2)$\n",
    "- [ ] $(-4, 3, 1, 1, 3)$\n",
    "- [ ] $(-3, 1, -1)$\n"
   ],
   "id": "6bb8b0337b15750d"
  },
  {
   "metadata": {},
   "cell_type": "markdown",
   "source": [
    "## V metode PCA 1. hlavny komponent urcuje\n",
    "- [ ] Smer maximalneho rozptylu\n",
    "- [ ] Dominantnu periodu v procese\n",
    "- [ ] Strednu hodnotu v datach\n"
   ],
   "id": "fea2434476f862ba"
  },
  {
   "metadata": {},
   "cell_type": "markdown",
   "source": [
    "## Pomocou priemetu dat na priamku mozeme\n",
    "- [ ] Zistit priemer dat\n",
    "- [ ] Vyhladit data\n",
    "- [ ] Zistit parabolicky trend $y = c_1 + c_2t^2$\n",
    "\n",
    "---\n"
   ],
   "id": "4dab15068c97917a"
  },
  {
   "metadata": {},
   "cell_type": "markdown",
   "source": [
    "## V kolkorozmernom podpriestore dosianhneme najlepsiu aproximaciu procesu $\\mathbf{f} = \\{ f_1, f_2, \\dots, f_N \\}$\n",
    "- [ ] $N$-rozmernom\n",
    "- [ ] $N - 1$-rozmernom\n",
    "- [ ] Jednorozmernom\n"
   ],
   "id": "d851c035e81ceb1e"
  },
  {
   "metadata": {},
   "cell_type": "markdown",
   "source": [
    "## Ak proces $\\overline{f}$ je najlepsim odhadom procesu $f$, potom pre skalarny sucin plati\n",
    "- [ ] $\\langle f-\\overline{f}, \\overline{f} \\rangle = 0$\n",
    "- [ ] $\\langle f-\\overline{f}, f \\rangle = 0$\n",
    "- [ ] $\\langle \\overline{f}, f \\rangle = 0$\n"
   ],
   "id": "cf60b05706c8f564"
  },
  {
   "metadata": {},
   "cell_type": "markdown",
   "source": [
    "## Metoda klzavych priemerov sluzi na\n",
    "- [ ] Odhad nasledujucej hodnoty v datach\n",
    "- [ ] Vyhladenie dat\n",
    "- [ ] Odhad chybajucej hodnoty medzi datami\n"
   ],
   "id": "e8620c2e3aee789"
  },
  {
   "metadata": {},
   "cell_type": "markdown",
   "source": [
    "## Nech matica $\\mathbf{B}$ je bazickou maticou $N$-rozmerneho procesu. Potom plati\n",
    "- [ ] $\\mathbf{B}$ je symetricka matica\n",
    "- [ ] $\\mathbf{B}$ je regularna matica\n",
    "- [ ] $\\mathbf{B}$ je stvorcova matica\n"
   ],
   "id": "59e8431ddd2c3e6a"
  },
  {
   "metadata": {},
   "cell_type": "markdown",
   "source": [
    "## Ktore funkcie mozeme pouzit pri aproximacii pomocou linearnej regresie?\n",
    "- [ ] $y(t) = ae^{bt}$\n",
    "- [ ] $y(t) = ae^{bt} + c$\n",
    "- [ ] $y(t) = a \\cdot \\ln(bt)$\n"
   ],
   "id": "d4f9ce7012277b24"
  },
  {
   "metadata": {},
   "cell_type": "markdown",
   "source": [
    "## Pre skalarny sucin komplexnych vektorov plati\n",
    "- [ ] $\\langle \\mathbf{f}, \\mathbf{g} \\rangle = \\sum \\mathbf{\\overline{f_k}} \\cdot \\mathbf{g_k}$\n",
    "- [ ] $\\langle \\mathbf{f}, \\mathbf{g} \\rangle = \\sum \\mathbf{f_k} \\cdot \\mathbf{\\overline{g_k}}$\n",
    "- [ ] $\\langle \\mathbf{f}, \\mathbf{g} \\rangle = \\sum \\mathbf{f_k} \\cdot \\mathbf{g_k}$\n",
    "\n"
   ],
   "id": "2bef228a807d3a47"
  },
  {
   "metadata": {},
   "cell_type": "markdown",
   "source": [
    "## Ak pre nahodne procesy plati $\\mathbf{g} = 2 \\mathbf{f}$, potom\n",
    "- [ ] $E\\mathbf{g} = E\\mathbf{f}$, a tiez $D\\mathbf{g} = 2 \\cdot D\\mathbf{g}$\n",
    "- [ ] $E\\mathbf{g} = 2 \\cdot E\\mathbf{f}$, a tiez $D\\mathbf{g} = 4 \\cdot D\\mathbf{g}$\n",
    "- [ ] $E\\mathbf{g} = 4 \\cdot E\\mathbf{f}$, a tiez $D\\mathbf{g} = 4 \\cdot D\\mathbf{g}$\n"
   ],
   "id": "1a42c262eb20074d"
  },
  {
   "metadata": {},
   "cell_type": "markdown",
   "source": [
    "## Diskretnu Fourierovu transformaciu mozeme pouzit\n",
    "- [ ] Na vyhladenie dat\n",
    "- [ ] Na urcenie smeru najvacsieho rozptylu v datach\n",
    "- [ ] Na hladanie periodickych trendov v datach\n"
   ],
   "id": "59b70a8453fccbf0"
  },
  {
   "metadata": {},
   "cell_type": "markdown",
   "source": [
    "## Nech $\\mathbf{U}$ je matica normovanych vlastnych vektorov kovariancnej matice $\\mathbf{R}$. Potom plati\n",
    "- [ ] $\\mathbf{U} = \\mathbf{U}^{-1}$\n",
    "- [ ] $\\mathbf{U}^T = \\mathbf{U}^{-1}$\n",
    "- [ ] $\\mathbf{U}^T = \\mathbf{R} \\cdot \\mathbf{R}^T$\n"
   ],
   "id": "3ece5c7be683307c"
  },
  {
   "metadata": {},
   "cell_type": "markdown",
   "source": [
    "## Aby sa dva nahodne procesy rovnali v ramci kovariancnej analyzy, staci aby mali rovnake\n",
    "- [ ] Disperzie a stredne hodnoty\n",
    "- [ ] Energie\n",
    "- [ ] Vsetky realizacie\n"
   ],
   "id": "3fd9fb0a883d3c5c"
  },
  {
   "metadata": {},
   "cell_type": "markdown",
   "source": [
    "## Suradnice $c_k$ a $c_{N-k}$ spektra v harnomickej baze su\n",
    "- [ ] Vzdy rovnake\n",
    "- [ ] Vzdy maju rovnake imaginarne zlozky\n",
    "- [ ] Imaginarne zlozky maju vzdy rovnake znamienka\n"
   ],
   "id": "c86b135599d19760"
  },
  {
   "metadata": {},
   "cell_type": "markdown",
   "source": [
    "## Baza $\\mathbf{B}_j$ $N$-rozmerneho priestoru vzdy predstavuje\n",
    "- [ ] Minmalny pocet navzajom nezavislych vektorov\n",
    "- [ ] Maximalny pocet navzajom nezavislych vektorov\n",
    "- [ ] Maximalny pocet navzajom kolmych vektorov\n"
   ],
   "id": "404ec9ef34edc383"
  },
  {
   "metadata": {},
   "cell_type": "markdown",
   "source": [
    "## Pre skalarny sucin plati\n",
    "- [ ] $\\langle 2 \\mathbf{f}, \\mathbf{g} \\rangle = 4 \\langle \\mathbf{f}, \\mathbf{g} \\rangle$\n",
    "- [ ] $\\langle 2 \\mathbf{f}, 2 \\mathbf{g} \\rangle = 2 \\langle \\mathbf{f}, \\mathbf{g} \\rangle$\n",
    "- [ ] $\\langle 2 \\mathbf{f}, 2 \\mathbf{g} \\rangle = 4 \\langle \\mathbf{f}, \\mathbf{g} \\rangle$\n"
   ],
   "id": "deb0937c26817553"
  },
  {
   "metadata": {},
   "cell_type": "markdown",
   "source": [
    "## Spektralna analyza pomocou harmonickej bazy je linearnou regresiou\n",
    "- [ ] Vzdy\n",
    "- [ ] Nikdy\n",
    "- [ ] Niekedy\n"
   ],
   "id": "21430833cec27d54"
  },
  {
   "metadata": {},
   "cell_type": "markdown",
   "source": [
    "## Nech matica $\\mathbf{B}$ je bazickou maticou vektoroveho podpriestoru $V_m(\\mathbb{R})$ ($m < N$, kde $N$ je dimenzia uvazovaneho priestoru). Potom koeficienty priemetu $c$ vektora $\\mathbf{f}$ do tohto podpriestoru vypocitame ako\n",
    "- [ ] $c = \\mathbf{f} \\cdot \\mathbf{B}^{-1}$\n",
    "- [ ] $c = (\\mathbf{f} \\cdot \\mathbf{B}) \\cdot (\\mathbf{B}^T \\cdot \\mathbf{B})^{-1}$\n",
    "- [ ] $c = (\\mathbf{f} \\cdot \\mathbf{B}^T) \\cdot (\\mathbf{B} \\cdot \\mathbf{B}^T)^{-1}$\n"
   ],
   "id": "f826a5f797571f56"
  },
  {
   "metadata": {},
   "cell_type": "markdown",
   "source": [
    "## Velkostou procesu $\\mathbf{f}$ nazveme vyraz\n",
    "- [ ] $|| \\mathbf{f} ||$\n",
    "- [ ] $\\langle \\mathbf{f}, \\mathbf{f} \\rangle$\n",
    "- [ ] $\\langle \\mathbf{f}, 0 \\rangle$\n"
   ],
   "id": "f32972048fe58180"
  },
  {
   "metadata": {},
   "cell_type": "markdown",
   "source": [
    "## Matica ma tvar $\\mathbf{M} = \\begin{pmatrix} 6 & 2 \\\\ 2 & 6 \\end{pmatrix}$. Ktore su jej vlastne cisla?\n",
    "- [ ] $\\lambda = 4$\n",
    "- [ ] $\\lambda = 0$\n",
    "- [ ] $\\lambda = 2$\n"
   ],
   "id": "1b696730f1942457"
  },
  {
   "metadata": {},
   "cell_type": "markdown",
   "source": [
    "## Piaty vektor $\\mathbf{b_4}$ harmonickej bazy **8-rozmerneho** priestoru je\n",
    "- [ ] $\\left(1, e^{i \\dfrac{2 \\pi}{16}}, e^{i \\dfrac{4 \\pi}{16}}, \\dots, e^{i \\dfrac{16 \\pi}{16}} \\right)$\n",
    "- [ ] $\\left(1, e^{i \\dfrac{10 \\pi}{16}}, e^{i \\dfrac{20 \\pi}{16}}, \\dots, e^{i \\dfrac{80 \\pi}{16}} \\right)$\n",
    "- [ ] $\\left(1, e^{i \\dfrac{8 \\pi}{16}}, e^{i \\dfrac{16 \\pi}{16}}, \\dots, e^{i \\dfrac{64 \\pi}{16}} \\right)$\n",
    "\n",
    "---"
   ],
   "id": "25feb6be878410e"
  },
  {
   "metadata": {},
   "cell_type": "markdown",
   "source": [
    "## Velkostou procesu $\\mathbf{f}$ nazveme vyraz\n",
    "- [ ] $\\langle \\mathbf{f}, \\mathbf{f} \\rangle$\n",
    "- [ ] $d(\\mathbf{f}, 0)$\n",
    "- [ ] $|| \\mathbf{f} || ^2$\n"
   ],
   "id": "f7eb34a0f8205af6"
  },
  {
   "metadata": {},
   "cell_type": "markdown",
   "source": [
    "## Koeficienty regresnej krivky $y = a + bt^3$ najdeme pomocou priemetu do\n",
    "- [ ] Jedno-rozmerneho podpriestoru\n",
    "- [ ] Dvoj-rozmerneho podpriestoru\n",
    "- [ ] Troj-rozmerneho podpriestoru\n"
   ],
   "id": "916de6b7a96595de"
  },
  {
   "metadata": {},
   "cell_type": "markdown",
   "source": [
    "## Matica $cov(\\mathbf{f}) = \\begin{pmatrix} 5 & 1 \\\\ 1 & 5 \\end{pmatrix}$ ma vlastny vektor\n",
    "- [ ] $\\mathbf{b} = (1, 1)$\n",
    "- [ ] $\\mathbf{b} = (1, -1)$\n",
    "- [ ] $\\mathbf{b} = (0, 1)$\n"
   ],
   "id": "fdf19a2fc62dfbf3"
  },
  {
   "metadata": {},
   "cell_type": "markdown",
   "source": [
    "## Matica $cov(\\mathbf{f}) = \\begin{pmatrix} 5 & 1 \\\\ 1 & 5 \\end{pmatrix}$ ma vlastne cislo\n",
    "- [ ] $\\lambda = 5$\n",
    "- [ ] $\\lambda = 0$\n",
    "- [ ] $\\lambda = 4$\n"
   ],
   "id": "c0b0e6385da27054"
  },
  {
   "metadata": {},
   "cell_type": "markdown",
   "source": [
    "## Nech matica $\\mathbf{A}$ ma vlastne cislo $\\lambda$ a vlastny vektor $\\mathbf{v}$. Potom plati\n",
    "- [ ] $\\mathbf{A} \\lambda = \\lambda \\mathbf{v}$\n",
    "- [ ] $\\mathbf{A} \\mathbf{v} = \\lambda \\mathbf{v}$\n",
    "- [ ] $\\mathbf{A} \\mathbf{v} = \\lambda \\mathbf{v}$\n"
   ],
   "id": "4a925549975f3038"
  },
  {
   "metadata": {},
   "cell_type": "markdown",
   "source": [
    "## Nech $\\mathbf{U}$ je bazicka matica vlastnych vektorov kovariancnej matice. Potom plati\n",
    "- [ ] $\\mathbf{U}^T = \\mathbf{U}$\n",
    "- [ ] $\\mathbf{U}^T = \\mathbf{U}^{-1}$\n",
    "- [ ] $\\mathbf{U}^2 = \\mathbf{U}^{-1}$\n"
   ],
   "id": "bdff0ed2d4991615"
  },
  {
   "metadata": {},
   "cell_type": "markdown",
   "source": [
    "## Nech $\\mathbf{\\tilde{f}}$ je priemet vektora $\\mathbf{f}$ do podpriestoru s bazickymi vektormi $\\mathbf{b_1}, \\mathbf{b_2}, \\mathbf{b_3}$, potom\n",
    "- [ ] $\\mathbf{\\tilde{f}}$ je linearne zavisly s vektormi $\\mathbf{b_1}, \\mathbf{b_2}, \\mathbf{b_3}$\n",
    "- [ ] $\\mathbf{\\tilde{f}}$ je linearne nezavisly s vektormi $\\mathbf{b_1}, \\mathbf{b_2}, \\mathbf{b_3}$\n",
    "- [ ] $\\mathbf{\\tilde{f}}$ moze byt linearne nezavisly s vektormi $\\mathbf{b_1}, \\mathbf{b_2}, \\mathbf{b_3}$\n"
   ],
   "id": "d08909a1a3414e52"
  },
  {
   "metadata": {},
   "cell_type": "markdown",
   "source": [
    "## Koeficienty $\\mathbf{f}$ v harmonickej baze $\\mathbf{H}$ su $\\mathbf{f} = (1, -2i, ?, 1+i, ?)$. Doplnte v poradi\n",
    "- [ ] $1 - i$, $-2i$\n",
    "- [ ] $2i$, $1 - i$\n",
    "- [ ] $1 - i$, $2i$\n"
   ],
   "id": "e6b1250f9db33e91"
  },
  {
   "metadata": {},
   "cell_type": "markdown",
   "source": [
    "## Proces $\\mathbf{f}$ v harmonickej baze $\\mathbf{H} = \\{ \\mathbf{b_0}, \\mathbf{b_1}, \\dots, \\mathbf{b_6}\\}$ ma spektrum $\\mathbf{f} = (0.5, -0.2+0.2i, -i, 1+i, 1-i, i, -0.2-0.2i)_\\mathbf{H}$. \"Najlepsi\" priemet procesu do 4-rozmerneho priestoru dostaneme, ak premietneme do bazy\n",
    "- [ ] $\\{ \\mathbf{b_2}, \\mathbf{b_3}, \\mathbf{b_4}, \\mathbf{b_5}\\}$\n",
    "- [ ] $\\{ \\mathbf{b_1}, \\mathbf{b_3}, \\mathbf{b_4}, \\mathbf{b_6}\\}$\n",
    "- [ ] $\\{ \\mathbf{b_1}, \\mathbf{b_2}, \\mathbf{b_3}, \\mathbf{b_5}\\}$\n"
   ],
   "id": "daf79c16ae63f501"
  },
  {
   "metadata": {},
   "cell_type": "markdown",
   "source": [
    "## Nech $\\mathbf{\\tilde{f}}$ je priemet dat vektora $\\mathbf{f}$ do podpriestoru s bazickymi vektormi $\\mathbf{b_1}, \\mathbf{b_2}, \\mathbf{b_3}$, potom\n",
    "- [ ] $\\mathbf{\\tilde{f}}$ je linearnou kombinaciou vektorov $\\mathbf{b_1}, \\mathbf{b_2}, \\mathbf{b_3}$\n",
    "- [ ] $\\mathbf{\\tilde{f}}$ je suctom vektorov $\\mathbf{b_1}, \\mathbf{b_2}, \\mathbf{b_3}$\n",
    "- [ ] $\\mathbf{\\tilde{f}}$ moze byt linearnou kombinaciou vektorov $\\mathbf{b_1}, \\mathbf{b_2}, \\mathbf{b_3}$\n"
   ],
   "id": "8c27dcbd0b9ffc12"
  },
  {
   "metadata": {},
   "cell_type": "markdown",
   "source": [
    "## Doplnte maticu $\\mathbf{A} = \\begin{pmatrix} 4 & a & 1 \\\\ b & c & 2 \\\\ 1 & 2 & d \\end{pmatrix}$ tak, aby bola korelacnou maticou\n",
    "- [ ] $a = 2, b = -2, c = 4, d = 4$\n",
    "- [ ] $a = 3, b = 3, c = 4, d = 2$\n",
    "- [ ] $a = 3, b = 3, c = -1, d = 4$\n"
   ],
   "id": "215b05061d4e8d9c"
  },
  {
   "metadata": {},
   "cell_type": "markdown",
   "source": [
    "## Kovarianciu $cov(X, Y)$ vypocitame\n",
    "- [ ] $EX^2 - EY^2$\n",
    "- [ ] $E((X - EX) (Y - EY))$\n",
    "- [ ] $E(XY) - EX \\cdot EY$\n"
   ],
   "id": "e62233eece3e34e"
  },
  {
   "metadata": {},
   "cell_type": "markdown",
   "source": [
    "## Ortoganlna baza $N$-rozmerneho priestoru vzdy predstavuje\n",
    "- [ ] Minimalny pocet navzajom kolmych vektorov\n",
    "- [ ] Maximalny pocet navzajom kolmych vektorov\n",
    "- [ ] Maximalny pocet navzajom nezavislych vektorov\n"
   ],
   "id": "b24178c7f8845a83"
  },
  {
   "metadata": {},
   "cell_type": "markdown",
   "source": [
    "## Odhad kovariancnej matice mozeme ziskat\n",
    "- [ ] Z odhadu strednej hodnoty a disperzie vektorov\n",
    "- [ ] Z distribucnej matice procesu\n",
    "- [ ] Z nameranych hodnot procesu\n"
   ],
   "id": "da0d7044e73cad2f"
  },
  {
   "metadata": {},
   "cell_type": "markdown",
   "source": [
    "## Nech $\\mathbf{f} \\neq 0$. Pre skalarny sucin plati\n",
    "- [ ] $\\langle \\mathbf{f}, 0 \\rangle = \\mathbf{f}$\n",
    "- [ ] $\\langle \\mathbf{f}, \\mathbf{f} \\rangle = 0$\n",
    "- [ ] $\\langle \\mathbf{f}, 0 \\rangle = -1$\n"
   ],
   "id": "151b0b9a909a364b"
  },
  {
   "metadata": {},
   "cell_type": "markdown",
   "source": [
    "## Ktory vektor moze byt prvym riadkom kovariancnej matice nahodneho procesu?\n",
    "- [ ] $(4, 2, 0, -1, 2)$\n",
    "- [ ] $(-4, 3, 1, 1, 3)$\n",
    "- [ ] $(-3, 1, -1)$\n"
   ],
   "id": "2b64d6fd03386a4c"
  },
  {
   "metadata": {},
   "cell_type": "markdown",
   "source": [
    "## V metode PCA 1. hlavny komponent urcuje\n",
    "- [ ] Smer maximalneho rozptylu\n",
    "- [ ] Dominantnu periodu v procese\n",
    "- [ ] Strednu hodnotu v datach"
   ],
   "id": "1bf9c40579769422"
  },
  {
   "metadata": {},
   "cell_type": "markdown",
   "source": [
    "## Pomocou priemetu dat na priamku mozeme\n",
    "- [ ] Zistit priemer dat\n",
    "- [ ] Vyhladit data\n",
    "- [ ] Zistit parabolicky trend $y = c_0 + c_1^t + c_2t^2$\n",
    "\n",
    "---\n"
   ],
   "id": "ceea05ba63d5c02a"
  }
 ],
 "metadata": {
  "kernelspec": {
   "display_name": "Python 3",
   "language": "python",
   "name": "python3"
  },
  "language_info": {
   "codemirror_mode": {
    "name": "ipython",
    "version": 2
   },
   "file_extension": ".py",
   "mimetype": "text/x-python",
   "name": "python",
   "nbconvert_exporter": "python",
   "pygments_lexer": "ipython2",
   "version": "2.7.6"
  }
 },
 "nbformat": 4,
 "nbformat_minor": 5
}
