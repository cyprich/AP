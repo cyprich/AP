{
 "cells": [
  {
   "metadata": {
    "ExecuteTime": {
     "end_time": "2025-02-02T15:38:48.981173Z",
     "start_time": "2025-02-02T15:38:48.977768Z"
    }
   },
   "cell_type": "code",
   "source": [
    "import numpy as np\n",
    "import sympy as sp\n",
    "import matplotlib.pyplot as plt\n",
    "\n",
    "np.set_printoptions(precision=4, suppress=True)  # Zaokrúhliť a vypnúť zobrazenie veľmi malých čísel"
   ],
   "id": "2a8e77782020a751",
   "outputs": [],
   "execution_count": 72
  },
  {
   "metadata": {},
   "cell_type": "markdown",
   "source": [
    "# Vzorce\n",
    "\n",
    "$\\mathbf{u_1}, \\mathbf{u_2}, \\dots$ su povodne vektory\n",
    "\n",
    "$\\mathbf{b_1}, \\mathbf{b_2}, \\dots$ su ortogonalizovane bazicke vektory\n",
    "\n",
    "---\n",
    "\n",
    "$\\mathbf{b_1} = \\mathbf{u_1}$\n",
    "\n",
    "---\n",
    "\n",
    "$\\mathbf{b_2} = \\mathbf{u_2} - \\mathbf{\\tilde{u_2}}$\n",
    "\n",
    "$\\mathbf{b_2} = \\mathbf{u_2} - c \\cdot \\mathbf{b_1}$\n",
    "\n",
    "$c = \\dfrac{\\langle \\mathbf{u_2}, \\mathbf{b_1} \\rangle}{\\langle \\mathbf{b_1}, \\mathbf{b_1} \\rangle}$\n",
    "\n",
    "> $c$ - koho premietam, na aky bazicky vektor\n",
    "\n",
    "---\n",
    "\n",
    "$\\mathbf{b_3} = \\mathbf{u_3} - \\mathbf{\\tilde{u_3}}$\n",
    "\n",
    "$\\mathbf{b_3} = \\mathbf{u_3} - (c_1 \\cdot \\mathbf{b_1} + c_2 \\cdot \\mathbf{b_2})$\n",
    "\n",
    "$c_1 = \\dfrac{\\langle \\mathbf{u_3}, \\mathbf{b_1} \\rangle}{\\langle \\mathbf{b_1}, \\mathbf{b_1} \\rangle}$\n",
    "\n",
    "$c_2 = \\dfrac{\\langle \\mathbf{u_3}, \\mathbf{b_2} \\rangle}{\\langle \\mathbf{b_2}, \\mathbf{b_2} \\rangle}$\n",
    "\n",
    "---\n",
    "\n",
    "$ B = \\begin{pmatrix}\n",
    "\\mathbf{b_1} \\\\\n",
    "\\mathbf{b_2} \\\\\n",
    "\\dots \\\\\n",
    "\\end{pmatrix} $\n",
    "\n"
   ],
   "id": "34ec8837ac2d7d2f"
  },
  {
   "metadata": {},
   "cell_type": "markdown",
   "source": "## Vytvorte ortogonalnu bazu z $(1, 1, 0) (0, 1, 1) (1, 0, 1)$",
   "id": "87b24290223ee8d7"
  },
  {
   "metadata": {
    "ExecuteTime": {
     "end_time": "2025-02-02T17:17:51.146197Z",
     "start_time": "2025-02-02T17:17:51.140550Z"
    }
   },
   "cell_type": "code",
   "source": [
    "u1 = np.array([1, 1, 1])\n",
    "u2 = np.array([0, 1, 2])\n",
    "u3 = np.array([0, 1, 4])\n",
    "\n",
    "b1 = u1\n",
    "\n",
    "c = (np.dot(u2, b1)/np.dot(b1, b1))\n",
    "b2 = u2 - c * b1\n",
    "\n",
    "c1 = (np.dot(u3, b1)/np.dot(b1, b1))\n",
    "c2 = (np.dot(u3, b2)/np.dot(b2, b2))\n",
    "b3 = u3 - (c1 * b1 + c2 * b2)\n",
    "\n",
    "B = np.array([b1, b2, b3])\n",
    "print(B)\n",
    "\n",
    "print(\"\\nOverenie kolmosti: \")\n",
    "print(round(b1 @ b2, 6))\n",
    "print(round(b1 @ b3, 6))\n",
    "print(round(b2 @ b3, 6))\n"
   ],
   "id": "dc1e0488b13608b1",
   "outputs": [
    {
     "name": "stdout",
     "output_type": "stream",
     "text": [
      "[[ 1.      1.      1.    ]\n",
      " [-1.      0.      1.    ]\n",
      " [ 0.3333 -0.6667  0.3333]]\n",
      "\n",
      "Overenie kolmosti: \n",
      "0.0\n",
      "-0.0\n",
      "-0.0\n",
      "\n",
      "-2.4980018054066027e-16\n"
     ]
    }
   ],
   "execution_count": 75
  },
  {
   "metadata": {
    "ExecuteTime": {
     "end_time": "2025-02-02T15:38:49.040836Z",
     "start_time": "2025-02-02T15:38:49.038848Z"
    }
   },
   "cell_type": "code",
   "source": "",
   "id": "3e4f72cecb1565db",
   "outputs": [],
   "execution_count": null
  }
 ],
 "metadata": {
  "kernelspec": {
   "display_name": "Python 3",
   "language": "python",
   "name": "python3"
  },
  "language_info": {
   "codemirror_mode": {
    "name": "ipython",
    "version": 2
   },
   "file_extension": ".py",
   "mimetype": "text/x-python",
   "name": "python",
   "nbconvert_exporter": "python",
   "pygments_lexer": "ipython2",
   "version": "2.7.6"
  }
 },
 "nbformat": 4,
 "nbformat_minor": 5
}
